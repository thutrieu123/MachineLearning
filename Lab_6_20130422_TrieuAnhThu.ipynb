{
  "nbformat": 4,
  "nbformat_minor": 0,
  "metadata": {
    "colab": {
      "provenance": [],
      "collapsed_sections": [
        "LMzehe0sy5wr",
        "kNv07ARGzOUm",
        "b52OPWPD2afi",
        "Ok7RGkea_b7n"
      ],
      "include_colab_link": true
    },
    "kernelspec": {
      "name": "python3",
      "display_name": "Python 3"
    },
    "language_info": {
      "name": "python"
    }
  },
  "cells": [
    {
      "cell_type": "markdown",
      "metadata": {
        "id": "view-in-github",
        "colab_type": "text"
      },
      "source": [
        "<a href=\"https://colab.research.google.com/github/thutrieu123/MachineLearning/blob/main/Lab_6_20130422_TrieuAnhThu.ipynb\" target=\"_parent\"><img src=\"https://colab.research.google.com/assets/colab-badge.svg\" alt=\"Open In Colab\"/></a>"
      ]
    },
    {
      "cell_type": "markdown",
      "source": [
        "# This lab is to deal with classification task using **Random Forests** and **Naïve Bayes** algorithms with/without **Feature Selection**. \n",
        "\n",
        "*   **Deadline: 23:59, 25/03/2023**\n",
        "\n"
      ],
      "metadata": {
        "id": "LMzehe0sy5wr"
      }
    },
    {
      "cell_type": "markdown",
      "source": [
        "# Import libraries"
      ],
      "metadata": {
        "id": "H4nJmxp9zGX4"
      }
    },
    {
      "cell_type": "code",
      "execution_count": 36,
      "metadata": {
        "id": "DoVWQ8AEyc-C"
      },
      "outputs": [],
      "source": [
        "# code\n",
        "import sklearn.metrics as metrics\n",
        "from sklearn.metrics import confusion_matrix \n",
        "from sklearn.metrics import accuracy_score\n",
        "from sklearn import datasets\n",
        "from sklearn import svm\n",
        "from sklearn.svm import SVC\n",
        "from sklearn.model_selection import train_test_split\n",
        "from sklearn.tree import DecisionTreeClassifier\n",
        "from sklearn.linear_model import LinearRegression,LogisticRegression\n",
        "from sklearn.neighbors import KNeighborsClassifier\n",
        "from sklearn.ensemble import RandomForestClassifier\n",
        "from sklearn.ensemble import ExtraTreesClassifier\n",
        "from sklearn.naive_bayes import GaussianNB\n",
        "from sklearn.datasets import make_classification\n",
        "from sklearn.feature_selection import RFE\n",
        "from sklearn.feature_selection import SelectKBest\n",
        "from sklearn.feature_selection import f_classif\n",
        "from sklearn.feature_selection import chi2\n",
        "from sklearn.decomposition import PCA\n",
        "from sklearn.impute import SimpleImputer\n",
        "from sklearn import preprocessing\n",
        "from sklearn.preprocessing import StandardScaler\n",
        "from sklearn.preprocessing import OneHotEncoder\n",
        "\n",
        "import numpy as np\n",
        "import pandas as pd\n",
        "import seaborn as sns\n",
        "import matplotlib.pyplot as plt\n",
        "from prettytable import PrettyTable"
      ]
    },
    {
      "cell_type": "markdown",
      "source": [
        "# Import Drive"
      ],
      "metadata": {
        "id": "-DxDxt99ewyM"
      }
    },
    {
      "cell_type": "code",
      "source": [
        "from google.colab import drive\n",
        "drive.mount('/content/gdrive')\n",
        "%cd '/content/gdrive/MyDrive/ML/Lab6'"
      ],
      "metadata": {
        "colab": {
          "base_uri": "https://localhost:8080/"
        },
        "id": "DIiAx7O7epG0",
        "outputId": "defa148d-ef7f-4200-e0d0-e57223ec3705"
      },
      "execution_count": 55,
      "outputs": [
        {
          "output_type": "stream",
          "name": "stdout",
          "text": [
            "Drive already mounted at /content/gdrive; to attempt to forcibly remount, call drive.mount(\"/content/gdrive\", force_remount=True).\n",
            "/content/gdrive/MyDrive/ML/Lab6\n"
          ]
        }
      ]
    },
    {
      "cell_type": "code",
      "source": [
        "from google.colab import drive\n",
        "drive.mount('/content/gdrive')\n",
        "%cd '/content/gdrive/MyDrive/ML/Lab5'"
      ],
      "metadata": {
        "colab": {
          "base_uri": "https://localhost:8080/"
        },
        "id": "6RkH4o3qx2hN",
        "outputId": "fda26f81-dcb4-4b5c-bd2c-bb443fb162c4"
      },
      "execution_count": 56,
      "outputs": [
        {
          "output_type": "stream",
          "name": "stdout",
          "text": [
            "Drive already mounted at /content/gdrive; to attempt to forcibly remount, call drive.mount(\"/content/gdrive\", force_remount=True).\n",
            "/content/gdrive/MyDrive/ML/Lab5\n"
          ]
        }
      ]
    },
    {
      "cell_type": "markdown",
      "source": [
        "#Task 1. \n",
        "Task 1. Compare the performance of selected classification algorithms including **Random forest**, **NaiveBayes**, and **SVM** with **mnist** dataset based on **accuracy, precision, recall, f1** measures according to **without using selection feature** and **using selection feature**.\n",
        "\n"
      ],
      "metadata": {
        "id": "kNv07ARGzOUm"
      }
    },
    {
      "cell_type": "markdown",
      "source": [
        "# **without using selection feature**"
      ],
      "metadata": {
        "id": "I5eOqbnp45VF"
      }
    },
    {
      "cell_type": "code",
      "source": [
        "# code\n",
        "mnist = datasets.load_digits(as_frame=True)\n",
        "x1 = mnist['data']\n",
        "y1 = mnist['target']\n",
        "\n",
        "x1_train, x1_test, y1_train, y1_test = train_test_split(x1, y1, test_size = 0.3, train_size= 0.7,random_state = 1)"
      ],
      "metadata": {
        "id": "sOsg77IBzEyo"
      },
      "execution_count": 7,
      "outputs": []
    },
    {
      "cell_type": "code",
      "source": [
        "# Random forest\n",
        "#Create a Random Forest Classifier\n",
        "rf=RandomForestClassifier(n_estimators=100)\n",
        "#Train the model using the training sets\n",
        "rf.fit(x1_train,y1_train)\n",
        "\n",
        "y_pred_rf = rf.predict(x1_test)\n",
        "\n",
        "aces_rf = metrics.accuracy_score(y1_test, y_pred_rf)\n",
        "precision_rf = metrics.precision_score(y1_test, y_pred_rf, average='macro')\n",
        "recall_rf = metrics.recall_score(y1_test, y_pred_rf, average='macro')\n",
        "f1_rf = metrics.f1_score(y1_test, y_pred_rf, average='macro')"
      ],
      "metadata": {
        "id": "mv_iBH5VzqpV"
      },
      "execution_count": 21,
      "outputs": []
    },
    {
      "cell_type": "code",
      "source": [
        "# NaiveBayes\n",
        "# GaussianNB\n",
        "nb_g = GaussianNB()\n",
        "nb_g.fit(x1_train, y1_train)\n",
        "\n",
        "y_pred_nb_g = nb_g.predict(x1_test)\n",
        "\n",
        "aces_nb_g = metrics.accuracy_score(y1_test, y_pred_nb_g)\n",
        "precision_nb_g = metrics.precision_score(y1_test, y_pred_nb_g, average='macro')\n",
        "recall_nb_g = metrics.recall_score(y1_test, y_pred_nb_g, average='macro')\n",
        "f1_nb_g = metrics.f1_score(y1_test, y_pred_nb_g, average='macro')"
      ],
      "metadata": {
        "id": "jw1tp9XO18ys"
      },
      "execution_count": 13,
      "outputs": []
    },
    {
      "cell_type": "code",
      "source": [
        "# SVM\n",
        "svm_ln = svm.SVC(kernel='linear')\n",
        "#Train the model using the training sets\n",
        "svm_ln.fit(x1_train, y1_train)\n",
        "#Predict the response for test dataset\n",
        "y_pred_svm_ln = svm_ln.predict(x1_test)\n",
        "\n",
        "aces_svm_ln = metrics.accuracy_score(y1_test, y_pred_svm_ln)\n",
        "precision_svm_ln = metrics.precision_score(y1_test, y_pred_svm_ln, average='macro')\n",
        "recall_svm_ln = metrics.recall_score(y1_test, y_pred_svm_ln, average='macro')\n",
        "f1_svm_ln = metrics.f1_score(y1_test, y_pred_svm_ln, average='macro')"
      ],
      "metadata": {
        "id": "nSO9mRGi1dj1"
      },
      "execution_count": 15,
      "outputs": []
    },
    {
      "cell_type": "markdown",
      "source": [
        "# **using selection feature**"
      ],
      "metadata": {
        "id": "_gD-VTcS47cb"
      }
    },
    {
      "cell_type": "code",
      "source": [
        "# Random forest\n",
        "#Create a Random Forest Classifier\n",
        "clf=RandomForestClassifier(n_estimators=100)\n",
        "#Train the model using the training sets\n",
        "clf.fit(x1,y1)\n",
        "feature_imp = pd.Series(clf.feature_importances_,index=mnist.feature_names).sort_values(ascending=False)\n",
        "\n",
        "# Creating a bar plot\n",
        "sns.barplot(x=feature_imp, y=feature_imp.index)\n",
        "# Add labels to your graph\n",
        "plt.xlabel('Feature Importance Score')\n",
        "plt.ylabel('Features')\n",
        "plt.title(\"Visualizing Important Features\")\n",
        "plt.legend()\n",
        "plt.show()\n",
        "\n",
        "features = feature_imp.index[0:2].values\n",
        "X_new = x1[feature_imp.index[0:2]]\n",
        "X_new\n",
        "\n",
        "x1_train_new, x1_test_new, y1_train_new, y1_test_new = train_test_split(X_new, y1, test_size=0.3, train_size=0.7, random_state=1)"
      ],
      "metadata": {
        "colab": {
          "base_uri": "https://localhost:8080/",
          "height": 333
        },
        "id": "4rH577D5mfhL",
        "outputId": "5b92a0ec-cecf-4dc3-bc0f-1046a8dbc7a7"
      },
      "execution_count": 29,
      "outputs": [
        {
          "output_type": "stream",
          "name": "stderr",
          "text": [
            "WARNING:matplotlib.legend:No artists with labels found to put in legend.  Note that artists whose label start with an underscore are ignored when legend() is called with no argument.\n"
          ]
        },
        {
          "output_type": "display_data",
          "data": {
            "text/plain": [
              "<Figure size 432x288 with 1 Axes>"
            ],
            "image/png": "[encoded data removed]"
          },
          "metadata": {
            "needs_background": "light"
          }
        }
      ]
    },
    {
      "cell_type": "code",
      "source": [
        "# Random forest\n",
        "#Create a Random Forest Classifier\n",
        "rf_sf=RandomForestClassifier(n_estimators=100)\n",
        "#Train the model using the training sets\n",
        "rf_sf.fit(x1_train_new,y1_train_new)\n",
        "\n",
        "y_pred_rf_sf = rf_sf.predict(x1_test_new)\n",
        "\n",
        "aces_rf_sf = metrics.accuracy_score(y1_test_new, y_pred_rf_sf)\n",
        "precision_rf_sf = metrics.precision_score(y1_test_new, y_pred_rf_sf, average='macro')\n",
        "recall_rf_sf = metrics.recall_score(y1_test_new, y_pred_rf_sf, average='macro')\n",
        "f1_rf_sf = metrics.f1_score(y1_test_new, y_pred_rf_sf, average='macro')"
      ],
      "metadata": {
        "id": "R5IgJSGPnqCD"
      },
      "execution_count": 30,
      "outputs": []
    },
    {
      "cell_type": "code",
      "source": [
        "# NaiveBayes\n",
        "# GaussianNB\n",
        "nb_g_sf = GaussianNB()\n",
        "nb_g_sf.fit(x1_train_new, y1_train_new)\n",
        "\n",
        "y_pred_nb_g_sf = nb_g_sf.predict(x1_test_new)\n",
        "\n",
        "aces_nb_g_sf = metrics.accuracy_score(y1_test_new, y_pred_nb_g_sf)\n",
        "precision_nb_g_sf = metrics.precision_score(y1_test_new, y_pred_nb_g_sf, average='macro')\n",
        "recall_nb_g_sf = metrics.recall_score(y1_test_new, y_pred_nb_g_sf, average='macro')\n",
        "f1_nb_g_sf = metrics.f1_score(y1_test_new, y_pred_nb_g_sf, average='macro')"
      ],
      "metadata": {
        "id": "il4sqIecou6G"
      },
      "execution_count": 31,
      "outputs": []
    },
    {
      "cell_type": "code",
      "source": [
        "# SVM\n",
        "svm_ln_sf = svm.SVC(kernel='linear')\n",
        "#Train the model using the training sets\n",
        "svm_ln_sf.fit(x1_train_new, y1_train_new)\n",
        "#Predict the response for test dataset\n",
        "y_pred_svm_ln_sf = svm_ln_sf.predict(x1_test_new)\n",
        "\n",
        "aces_svm_ln_sf = metrics.accuracy_score(y1_test_new, y_pred_svm_ln_sf)\n",
        "precision_svm_ln_sf = metrics.precision_score(y1_test_new, y_pred_svm_ln_sf, average='macro')\n",
        "recall_svm_ln_sf = metrics.recall_score(y1_test_new, y_pred_svm_ln_sf, average='macro')\n",
        "f1_svm_ln_sf = metrics.f1_score(y1_test_new, y_pred_svm_ln_sf, average='macro')"
      ],
      "metadata": {
        "colab": {
          "base_uri": "https://localhost:8080/"
        },
        "id": "lZJGYPI1ovLF",
        "outputId": "b720147f-93df-4908-c398-c13d84efdd57"
      },
      "execution_count": 32,
      "outputs": [
        {
          "output_type": "stream",
          "name": "stderr",
          "text": [
            "/usr/local/lib/python3.9/dist-packages/sklearn/metrics/_classification.py:1344: UndefinedMetricWarning: Precision is ill-defined and being set to 0.0 in labels with no predicted samples. Use `zero_division` parameter to control this behavior.\n",
            "  _warn_prf(average, modifier, msg_start, len(result))\n"
          ]
        }
      ]
    },
    {
      "cell_type": "markdown",
      "source": [
        "# **Compare without using and using**"
      ],
      "metadata": {
        "id": "ihzXWOlLp2HM"
      }
    },
    {
      "cell_type": "code",
      "source": [
        "table_w = PrettyTable([\"\",\"Accuracy\", \"Precision\", \"Recall\", \"F1\"])\n",
        "table_u = PrettyTable([\"\",\"Accuracy\", \"Precision\", \"Recall\", \"F1\"])\n",
        "\n",
        "table_w.add_row([\"Random Forest \",round(aces_rf,4),round(precision_rf,4),round(recall_rf,4),round(f1_rf,4)])\n",
        "table_w.add_row([\"NaiveBayes \",round(aces_nb_g,4),round(precision_nb_g,4),round(recall_nb_g,4),round(f1_nb_g,4)])\n",
        "table_w.add_row([\"Suport Vector Machine \",round(aces_svm_ln,4),round(precision_svm_ln,4),round(recall_svm_ln,4),round(f1_svm_ln,4)])\n",
        "\n",
        "table_u.add_row([\"Random Forest \",round(aces_rf_sf,4),round(precision_rf_sf,4),round(recall_rf_sf,4),round(f1_rf_sf,4)])\n",
        "table_u.add_row([\"NaiveBayes \",round(aces_nb_g_sf,4),round(precision_nb_g_sf,4),round(recall_nb_g_sf,4),round(f1_nb_g_sf,4)])\n",
        "table_u.add_row([\"Suport Vector Machine \",round(aces_svm_ln_sf,4),round(precision_svm_ln_sf,4),round(recall_svm_ln_sf,4),round(f1_svm_ln_sf,4)])\n",
        "\n",
        "print('Without using selection feature')\n",
        "print(table_w)\n",
        "print()\n",
        "print('Using selection feature')\n",
        "print(table_u)"
      ],
      "metadata": {
        "colab": {
          "base_uri": "https://localhost:8080/"
        },
        "id": "XB2ZKjtbp9er",
        "outputId": "f2c2dbfa-c1a9-4789-8e96-99004e2c7a84"
      },
      "execution_count": 33,
      "outputs": [
        {
          "output_type": "stream",
          "name": "stdout",
          "text": [
            "Without using selection feature\n",
            "+------------------------+----------+-----------+--------+--------+\n",
            "|                        | Accuracy | Precision | Recall |   F1   |\n",
            "+------------------------+----------+-----------+--------+--------+\n",
            "|     Random Forest      |  0.987   |   0.9868  | 0.9872 | 0.9869 |\n",
            "|      NaiveBayes        |  0.8315  |   0.8564  | 0.8298 | 0.8292 |\n",
            "| Suport Vector Machine  |  0.9815  |   0.9809  | 0.9811 | 0.981  |\n",
            "+------------------------+----------+-----------+--------+--------+\n",
            "\n",
            "Using selection feature\n",
            "+------------------------+----------+-----------+--------+--------+\n",
            "|                        | Accuracy | Precision | Recall |   F1   |\n",
            "+------------------------+----------+-----------+--------+--------+\n",
            "|     Random Forest      |  0.3611  |   0.3529  | 0.3645 | 0.3443 |\n",
            "|      NaiveBayes        |  0.3889  |   0.337   | 0.3927 | 0.3386 |\n",
            "| Suport Vector Machine  |  0.3944  |   0.3404  | 0.3967 | 0.3503 |\n",
            "+------------------------+----------+-----------+--------+--------+\n"
          ]
        }
      ]
    },
    {
      "cell_type": "markdown",
      "source": [
        "#Task 2. \n",
        "For given bank dataset (bank.csv) having the following attributes :\n",
        "1.\t**age** (numeric)\n",
        "2.\t**job** : type of job (categorical: 'admin.','blue-collar','entrepreneur','housemaid','management','retired','self-employed','services','student','technician','unemployed','unknown')\n",
        "3.\t**marital** : marital status (categorical: 'divorced','married','single','unknown'; note: 'divorced' means divorced or widowed)\n",
        "4.\t**education** (categorical: 'basic.4y','basic.6y','basic.9y','high.school','illiterate','professional.course','university.degree','unknown')\n",
        "5.\t**default**: has credit in default? (categorical: 'no','yes','unknown')\n",
        "6.\t**housing**: has housing loan? (categorical: 'no','yes','unknown')\n",
        "7.\t**loan**: has personal loan? (categorical: 'no','yes','unknown')\n",
        "8.\t**contact**: contact communication type (categorical: 'cellular','telephone')\n",
        "9.\t**month**: last contact month of year (categorical: 'jan', 'feb', 'mar', ..., 'nov', 'dec')\n",
        "10.\t**day_of_week**: last contact day of the week (categorical: 'mon','tue','wed','thu','fri')\n",
        "11.\t**duration**: last contact duration, in seconds (numeric). Important note: this attribute highly affects the output target (e.g., if duration=0 then y='no'). Yet, the duration is not known before a call is performed. Also, after the end of the call y is obviously known. Thus, this input should only be included for benchmark purposes and should be discarded if the intention is to have a realistic predictive model.\n",
        "12.\t**campaign**: number of contacts performed during this campaign and for this client (numeric, includes last contact)\n",
        "13.\t**pdays**: number of days that passed by after the client was last contacted from a previous campaign (numeric; 999 means client was not previously contacted)\n",
        "14.\t**previous**: number of contacts performed before this campaign and for this client (numeric)\n",
        "15.\t**poutcome**: outcome of the previous marketing campaign (categorical: 'failure','nonexistent','success')\n",
        "Output variable (desired target):\n",
        "16.\t**y**. has the client subscribed a term deposit? (binary: 'yes','no')\n",
        "\n"
      ],
      "metadata": {
        "id": "b52OPWPD2afi"
      }
    },
    {
      "cell_type": "code",
      "source": [
        "df = pd.read_csv('bank.csv')\n",
        "x1_task2 =df[['age', 'balance', 'day', 'campaign', 'pdays', 'previous']]\n",
        "x2_task2 =df[[ 'job', 'marital', 'education', 'default', 'housing', 'loan', 'contact', 'month', 'poutcome']]\n",
        "y_task2 = df[[ 'deposit']]"
      ],
      "metadata": {
        "id": "RIh9I9dSsboE"
      },
      "execution_count": 34,
      "outputs": []
    },
    {
      "cell_type": "markdown",
      "source": [
        "#3.1. Apply StandardScaler() function to columns that contains numerical data ('age', 'balance', 'day', 'campaign', 'pdays', 'previous')"
      ],
      "metadata": {
        "id": "q89LEvT7dqaZ"
      }
    },
    {
      "cell_type": "code",
      "source": [
        "#code\n",
        "# StandardScaler\n",
        "object= StandardScaler()\n",
        "scale = object.fit_transform(x1_task2)\n",
        "print(scale)"
      ],
      "metadata": {
        "id": "8vx3mfIidu4P",
        "colab": {
          "base_uri": "https://localhost:8080/"
        },
        "outputId": "b4947c77-6d42-40ec-aa8e-1ec8573d35a0"
      },
      "execution_count": 35,
      "outputs": [
        {
          "output_type": "stream",
          "name": "stdout",
          "text": [
            "[[ 1.49150488  0.25252514 -1.26574556 -0.55416834 -0.48118405 -0.36325984]\n",
            " [ 1.23967567 -0.4599736  -1.26574556 -0.55416834 -0.48118405 -0.36325984]\n",
            " [-0.0194704  -0.0801603  -1.26574556 -0.55416834 -0.48118405 -0.36325984]\n",
            " ...\n",
            " [-0.77495804 -0.46493443  0.39689074 -0.18678537 -0.48118405 -0.36325984]\n",
            " [ 0.14841574 -0.47392593 -0.90946635 -0.18678537  1.10957066  1.81833188]\n",
            " [-0.6070719  -0.47392593 -0.79070662 -0.55416834 -0.48118405 -0.36325984]]\n"
          ]
        }
      ]
    },
    {
      "cell_type": "markdown",
      "source": [
        "#3.2. Apply Encode Categorical Value (OneHotEncoder) to transfrom categorical data to numerical data ('job', 'marital', 'education', 'default', 'housing', 'loan', 'contact', 'month', 'poutcome')"
      ],
      "metadata": {
        "id": "r7acR0TxdvY8"
      }
    },
    {
      "cell_type": "code",
      "source": [
        "#code\n",
        "# Encode Categorica\n",
        "onehot = OneHotEncoder(drop='first',sparse=False,dtype=np.int32)\n",
        "encode = onehot.fit_transform(x2_task2)\n",
        "print(encode.shape)\n",
        "merged = np.hstack((x1_task2.values,encode))\n",
        "print(merged.shape)"
      ],
      "metadata": {
        "id": "egtgBmAtd0um",
        "colab": {
          "base_uri": "https://localhost:8080/"
        },
        "outputId": "ccfd9049-0fad-4da7-840d-9c9502c15539"
      },
      "execution_count": 37,
      "outputs": [
        {
          "output_type": "stream",
          "name": "stdout",
          "text": [
            "(11162, 35)\n",
            "(11162, 41)\n"
          ]
        },
        {
          "output_type": "stream",
          "name": "stderr",
          "text": [
            "/usr/local/lib/python3.9/dist-packages/sklearn/preprocessing/_encoders.py:868: FutureWarning: `sparse` was renamed to `sparse_output` in version 1.2 and will be removed in 1.4. `sparse_output` is ignored unless you leave `sparse` to its default value.\n",
            "  warnings.warn(\n"
          ]
        }
      ]
    },
    {
      "cell_type": "markdown",
      "source": [
        "#3.3. Apply **Decision tree, Random forest, kNN, NaïveBayes** to preproceed dataset in the previous steps. Then compare the obtained results using **accuracy, precision, recall, f1** measures."
      ],
      "metadata": {
        "id": "K2Si6d69d1nh"
      }
    },
    {
      "cell_type": "code",
      "source": [
        "#code\n",
        "x2_train, x2_test, y2_train, y2_test = train_test_split(merged, y_task2, test_size = 0.3, train_size=0.7,random_state=1)"
      ],
      "metadata": {
        "id": "Ouil-cf_d8jW"
      },
      "execution_count": 38,
      "outputs": []
    },
    {
      "cell_type": "code",
      "source": [
        "# Decision Tree\n",
        "clf_DT = DecisionTreeClassifier(criterion=\"gini\", random_state=42, max_depth=3, min_samples_leaf=5)\n",
        "clf_DT.fit(x2_train, y2_train)\n",
        "y_pred_DT = clf_DT.predict(x2_test)\n",
        "\n",
        "aces_DT = round(metrics.accuracy_score(y2_test,y_pred_DT),4)\n",
        "precision_DT = round(metrics.precision_score(y2_test, y_pred_DT, average='macro'),4)\n",
        "recall_DT = round(metrics.recall_score(y2_test, y_pred_DT, average='macro'),4)\n",
        "f1_DT = round(metrics.f1_score(y2_test, y_pred_DT, average='macro'),4)"
      ],
      "metadata": {
        "id": "Vu7FalSitafs"
      },
      "execution_count": 39,
      "outputs": []
    },
    {
      "cell_type": "code",
      "source": [
        "# Random Forest \n",
        "rf_task2 = RandomForestClassifier(n_estimators=100)\n",
        "rf_task2.fit(x2_train, y2_train)\n",
        "y_pred_rf_task2 = rf_task2.predict(x2_test)\n",
        "\n",
        "aces_RF = round(metrics.accuracy_score(y2_test, y_pred_rf_task2),4)\n",
        "precision_RF = round(metrics.precision_score(y2_test,y_pred_rf_task2, average='macro'),4)\n",
        "recall_RF = round(metrics.recall_score(y2_test, y_pred_rf_task2, average='macro'),4)\n",
        "f1_RF = round(metrics.f1_score(y2_test, y_pred_rf_task2, average='macro'),4)"
      ],
      "metadata": {
        "colab": {
          "base_uri": "https://localhost:8080/"
        },
        "id": "F2RRkBLmtcTj",
        "outputId": "df9aae56-fb05-42f9-c41b-2cf69d1a4698"
      },
      "execution_count": 40,
      "outputs": [
        {
          "output_type": "stream",
          "name": "stderr",
          "text": [
            "<ipython-input-40-606486870663>:3: DataConversionWarning: A column-vector y was passed when a 1d array was expected. Please change the shape of y to (n_samples,), for example using ravel().\n",
            "  rf_task2.fit(x2_train, y2_train)\n"
          ]
        }
      ]
    },
    {
      "cell_type": "code",
      "source": [
        "# kNN\n",
        "kNN = KNeighborsClassifier(n_neighbors = 5)\n",
        "kNN.fit(x2_train, y2_train)\n",
        "y_pred_kNN = kNN.predict(x2_test)\n",
        "\n",
        "aces_kNN = round(metrics.accuracy_score(y2_test, y_pred_kNN ),4)\n",
        "precision_kNN = round(metrics.precision_score(y2_test, y_pred_kNN , average='macro'),4)\n",
        "recall_kNN = round(metrics.recall_score(y2_test, y_pred_kNN , average='macro'),4)\n",
        "f1_kNN = round(metrics.f1_score(y2_test, y_pred_kNN , average='macro'),4)"
      ],
      "metadata": {
        "colab": {
          "base_uri": "https://localhost:8080/"
        },
        "id": "SAfP79fptd_k",
        "outputId": "b61eaab9-b819-47d2-a50c-4e6f48fe4dcb"
      },
      "execution_count": 41,
      "outputs": [
        {
          "output_type": "stream",
          "name": "stderr",
          "text": [
            "/usr/local/lib/python3.9/dist-packages/sklearn/neighbors/_classification.py:215: DataConversionWarning: A column-vector y was passed when a 1d array was expected. Please change the shape of y to (n_samples,), for example using ravel().\n",
            "  return self._fit(X, y)\n"
          ]
        }
      ]
    },
    {
      "cell_type": "code",
      "source": [
        "# NaiveBayes \n",
        "nb_task2 = GaussianNB()\n",
        "nb_task2.fit(x2_train, y2_train)\n",
        "y_pred_NB = nb_task2.predict(x2_test)\n",
        "\n",
        "aces_NB = round(metrics.accuracy_score(y2_test, y_pred_NB),4)\n",
        "precision_NB =round(metrics.precision_score(y2_test, y_pred_NB, average='macro'),4)\n",
        "recall_NB = round(metrics.recall_score(y2_test, y_pred_NB, average='macro'),4)\n",
        "f1_NB = round(metrics.f1_score(y2_test, y_pred_NB, average='macro'),4)"
      ],
      "metadata": {
        "colab": {
          "base_uri": "https://localhost:8080/"
        },
        "id": "a8NYTmjctfR0",
        "outputId": "cf63c3e2-d979-4685-9ffe-a2e129e842ee"
      },
      "execution_count": 42,
      "outputs": [
        {
          "output_type": "stream",
          "name": "stderr",
          "text": [
            "/usr/local/lib/python3.9/dist-packages/sklearn/utils/validation.py:1143: DataConversionWarning: A column-vector y was passed when a 1d array was expected. Please change the shape of y to (n_samples, ), for example using ravel().\n",
            "  y = column_or_1d(y, warn=True)\n"
          ]
        }
      ]
    },
    {
      "cell_type": "code",
      "source": [
        "table_task2 = PrettyTable([\"\",\"Accuracy\", \"Precision\", \"Recall\", \"F1\"])\n",
        "\n",
        "table_task2.add_row([\"Decision Tree \", aces_DT, precision_DT, recall_DT, f1_DT])\n",
        "table_task2.add_row([\"Random Forest  \",aces_RF, precision_RF, recall_RF, f1_RF])\n",
        "table_task2.add_row([\"KNN  \",aces_kNN, precision_kNN, recall_kNN, f1_kNN])\n",
        "table_task2.add_row([\"NaiveBayes   \",aces_NB, precision_NB, recall_NB, f1_NB])\n",
        "\n",
        "print(table_task2)"
      ],
      "metadata": {
        "colab": {
          "base_uri": "https://localhost:8080/"
        },
        "id": "WlUuyCkitgw3",
        "outputId": "ddc906e1-1ddd-43c1-c664-f1490285e44b"
      },
      "execution_count": 43,
      "outputs": [
        {
          "output_type": "stream",
          "name": "stdout",
          "text": [
            "+-----------------+----------+-----------+--------+--------+\n",
            "|                 | Accuracy | Precision | Recall |   F1   |\n",
            "+-----------------+----------+-----------+--------+--------+\n",
            "|  Decision Tree  |  0.6411  |   0.6415  | 0.6418 | 0.641  |\n",
            "| Random Forest   |  0.7178  |   0.7208  | 0.7136 | 0.7138 |\n",
            "|      KNN        |   0.59   |   0.5883  | 0.5858 | 0.5847 |\n",
            "|  NaiveBayes     |  0.6808  |   0.7009  | 0.6714 | 0.6648 |\n",
            "+-----------------+----------+-----------+--------+--------+\n"
          ]
        }
      ]
    },
    {
      "cell_type": "markdown",
      "source": [
        "#3.4. Using selection feature to above dataset, then compare the classification results with those in Task 2.3. "
      ],
      "metadata": {
        "id": "SweVRB4meApP"
      }
    },
    {
      "cell_type": "code",
      "source": [
        "#code\n",
        "clf_task2 = RandomForestClassifier(n_estimators=100)\n",
        "lenght = range(0,41)\n",
        "clf_task2.fit(merged,y_task2)\n",
        "feature_imp_task2 = pd.Series(clf_task2.feature_importances_, index= lenght).sort_values(ascending=False)\n",
        "\n",
        "features = feature_imp_task2.index[0:4].values\n",
        "x_task2_new = merged[:,feature_imp_task2.index[0:4]]\n",
        "\n",
        "x_task2_train_new, x_task2_test_new, y_task2_train_new, y_task2_test_new = train_test_split(x_task2_new,y_task2, test_size = 0.3, train_size=0.7,random_state=1)\n",
        "print(x_task2_train_new.shape)\n",
        "print(x_task2_test_new.shape)\n",
        "print(y_task2_train_new.shape)\n",
        "print(y_task2_test_new.shape)"
      ],
      "metadata": {
        "id": "seFBhqCSeC7C",
        "colab": {
          "base_uri": "https://localhost:8080/"
        },
        "outputId": "5a9d64b2-2764-4d38-e6b0-a0b64eb8b1d8"
      },
      "execution_count": 47,
      "outputs": [
        {
          "output_type": "stream",
          "name": "stderr",
          "text": [
            "<ipython-input-47-556f02c3dcce>:4: DataConversionWarning: A column-vector y was passed when a 1d array was expected. Please change the shape of y to (n_samples,), for example using ravel().\n",
            "  clf_task2.fit(merged,y_task2)\n"
          ]
        },
        {
          "output_type": "stream",
          "name": "stdout",
          "text": [
            "(7813, 4)\n",
            "(3349, 4)\n",
            "(7813, 1)\n",
            "(3349, 1)\n"
          ]
        }
      ]
    },
    {
      "cell_type": "code",
      "source": [
        "# Decision Tree\n",
        "clf_DT_task2 = DecisionTreeClassifier(criterion=\"gini\", random_state=42, max_depth=3, min_samples_leaf=5)\n",
        "clf_DT_task2.fit(x_task2_train_new, y_task2_train_new)\n",
        "y_pred_DT_task2 = clf_DT_task2.predict(x_task2_test_new)\n",
        "\n",
        "aces_DT_new = round(metrics.accuracy_score(y_task2_test_new,y_pred_DT_task2),4)\n",
        "precision_DT_new = round(metrics.precision_score(y_task2_test_new, y_pred_DT_task2, average='macro'),4)\n",
        "recall_DT_new = round(metrics.recall_score(y_task2_test_new, y_pred_DT_task2, average='macro'),4)\n",
        "f1_DT_new = round(metrics.f1_score(y_task2_test_new, y_pred_DT_task2, average='macro'),4)"
      ],
      "metadata": {
        "id": "Du8Hd4JDuZuk"
      },
      "execution_count": 48,
      "outputs": []
    },
    {
      "cell_type": "code",
      "source": [
        "# Random Forest \n",
        "rf_task2_new = RandomForestClassifier(n_estimators=100)\n",
        "rf_task2_new.fit(x_task2_train_new, y_task2_train_new)\n",
        "y_pred_rf_task2_new = rf_task2_new.predict(x_task2_test_new)\n",
        "\n",
        "aces_RF_new = round(metrics.accuracy_score(y_task2_test_new,y_pred_rf_task2_new),4)\n",
        "precision_RF_new = round(metrics.precision_score(y_task2_test_new,y_pred_rf_task2_new, average='macro'),4)\n",
        "recall_RF_new = round(metrics.recall_score(y_task2_test_new,y_pred_rf_task2_new, average='macro'),4)\n",
        "f1_RF_new = round(metrics.f1_score(y_task2_test_new,y_pred_rf_task2_new, average='macro'),4)"
      ],
      "metadata": {
        "colab": {
          "base_uri": "https://localhost:8080/"
        },
        "id": "jLjIXbL8ubc7",
        "outputId": "9d9a543a-d926-440d-c64a-2363f99524d5"
      },
      "execution_count": 49,
      "outputs": [
        {
          "output_type": "stream",
          "name": "stderr",
          "text": [
            "<ipython-input-49-ecc44f8ed328>:3: DataConversionWarning: A column-vector y was passed when a 1d array was expected. Please change the shape of y to (n_samples,), for example using ravel().\n",
            "  rf_task2_new.fit(x_task2_train_new, y_task2_train_new)\n"
          ]
        }
      ]
    },
    {
      "cell_type": "code",
      "source": [
        "# kNN\n",
        "kNN_task2_new = KNeighborsClassifier(n_neighbors = 5)\n",
        "kNN_task2_new.fit(x_task2_train_new, y_task2_train_new)\n",
        "y_pred_kNN_task2_new = kNN_task2_new.predict(x_task2_test_new)\n",
        "\n",
        "aces_kNN_new = round(metrics.accuracy_score(y_task2_test_new, y_pred_kNN_task2_new ),4)\n",
        "precision_kNN_new = round(metrics.precision_score(y_task2_test_new, y_pred_kNN_task2_new, average='macro'),4)\n",
        "recall_kNN_new = round(metrics.recall_score(y_task2_test_new, y_pred_kNN_task2_new , average='macro'),4)\n",
        "f1_kNN_new = round(metrics.f1_score(y_task2_test_new, y_pred_kNN_task2_new , average='macro'),4)"
      ],
      "metadata": {
        "colab": {
          "base_uri": "https://localhost:8080/"
        },
        "id": "vbKRqqjMudHs",
        "outputId": "e1da50ab-8850-4da8-8aed-6bae0bdf7ef6"
      },
      "execution_count": 50,
      "outputs": [
        {
          "output_type": "stream",
          "name": "stderr",
          "text": [
            "/usr/local/lib/python3.9/dist-packages/sklearn/neighbors/_classification.py:215: DataConversionWarning: A column-vector y was passed when a 1d array was expected. Please change the shape of y to (n_samples,), for example using ravel().\n",
            "  return self._fit(X, y)\n"
          ]
        }
      ]
    },
    {
      "cell_type": "code",
      "source": [
        "# NaiveBayes \n",
        "nb_task2_new = GaussianNB()\n",
        "nb_task2_new.fit(x_task2_train_new, y_task2_train_new)\n",
        "y_pred_NB_new = nb_task2_new.predict(x_task2_test_new)\n",
        "\n",
        "aces_NB_new = round(metrics.accuracy_score(y_task2_test_new, y_pred_NB_new),4)\n",
        "precision_NB_new =round(metrics.precision_score(y_task2_test_new, y_pred_NB_new, average='macro'),4)\n",
        "recall_NB_new = round(metrics.recall_score(y_task2_test_new, y_pred_NB_new, average='macro'),4)\n",
        "f1_NB_new = round(metrics.f1_score(y_task2_test_new, y_pred_NB_new, average='macro'),4)"
      ],
      "metadata": {
        "colab": {
          "base_uri": "https://localhost:8080/"
        },
        "id": "rWSOlrEzue4k",
        "outputId": "6326fc3f-0718-4031-ca14-509180d2ee1e"
      },
      "execution_count": 52,
      "outputs": [
        {
          "output_type": "stream",
          "name": "stderr",
          "text": [
            "/usr/local/lib/python3.9/dist-packages/sklearn/utils/validation.py:1143: DataConversionWarning: A column-vector y was passed when a 1d array was expected. Please change the shape of y to (n_samples, ), for example using ravel().\n",
            "  y = column_or_1d(y, warn=True)\n"
          ]
        }
      ]
    },
    {
      "cell_type": "code",
      "source": [
        "table_task2_new = PrettyTable([\"\",\"Accuracy\", \"Precision\", \"Recall\", \"F1\"])\n",
        "\n",
        "table_task2_new.add_row([\"Decision Tree \", aces_DT_new, precision_DT_new, recall_DT_new, f1_DT_new])\n",
        "table_task2_new.add_row([\"Random Forest  \",aces_RF_new, precision_RF_new, recall_RF_new, f1_RF_new])\n",
        "table_task2_new.add_row([\"KNN  \", aces_kNN_new, precision_kNN_new, recall_kNN_new, f1_kNN_new])\n",
        "table_task2_new.add_row([\"NaiveBayes   \", aces_NB_new, precision_NB_new, recall_NB_new, f1_NB_new])\n",
        "\n",
        "print(table_task2_new)"
      ],
      "metadata": {
        "colab": {
          "base_uri": "https://localhost:8080/"
        },
        "id": "dsww8M8Tugcq",
        "outputId": "aec6df06-377d-4deb-9687-0b4e4d863bc0"
      },
      "execution_count": 53,
      "outputs": [
        {
          "output_type": "stream",
          "name": "stdout",
          "text": [
            "+-----------------+----------+-----------+--------+--------+\n",
            "|                 | Accuracy | Precision | Recall |   F1   |\n",
            "+-----------------+----------+-----------+--------+--------+\n",
            "|  Decision Tree  |  0.5778  |   0.639   | 0.5585 | 0.4943 |\n",
            "| Random Forest   |  0.6145  |   0.6131  | 0.6113 | 0.611  |\n",
            "|      KNN        |  0.5775  |   0.5758  | 0.5753 | 0.5753 |\n",
            "|  NaiveBayes     |  0.5539  |   0.5758  | 0.5641 | 0.5403 |\n",
            "+-----------------+----------+-----------+--------+--------+\n"
          ]
        }
      ]
    },
    {
      "cell_type": "markdown",
      "source": [
        "#Task 4. \n",
        "For a given dataset in the Lab #5 (**credit card dataset**), perform feature selection and thencompare the performance of selected classification algorithms (Decision Tree, kNN, Logistic Regression, SVM, Random Forest and NaiveBayes) based on accuracy, precision, recall, f1 measures.\n"
      ],
      "metadata": {
        "id": "Z5pp7_h-aP2u"
      }
    },
    {
      "cell_type": "code",
      "source": [
        "# code\n",
        "df_task4 = pd.read_csv('creditcard.csv')\n",
        "x_task4 = df_task4.iloc[:,:-1]\n",
        "y_task4 = df_task4[['Class']]"
      ],
      "metadata": {
        "id": "Rw_-8FIf2KxW"
      },
      "execution_count": 57,
      "outputs": []
    },
    {
      "cell_type": "code",
      "source": [
        "clf_task4 = RandomForestClassifier(n_estimators=100)\n",
        "# lenght = range(0,41)\n",
        "clf_task4.fit(x_task4.head(100),y_task4.head(100))\n",
        "feature_imp_task4 = pd.Series(clf_task4.feature_importances_, index= x_task4.columns).sort_values(ascending=False)\n",
        "\n",
        "features = feature_imp.index[0:4].values\n",
        "X_task4_new = x_task4[feature_imp_task4.index[0:4]]\n",
        "\n",
        "X_task4_train_new, X_task4_test_new, Y_task4_train_new, Y_task4_test_new = train_test_split(X_task4_new,y_task4, test_size = 0.3, train_size=0.7,random_state=1)"
      ],
      "metadata": {
        "colab": {
          "base_uri": "https://localhost:8080/"
        },
        "id": "vL1CMxK5xC4G",
        "outputId": "00e8f8a2-f421-43f7-dba3-b609fa0d9543"
      },
      "execution_count": 58,
      "outputs": [
        {
          "output_type": "stream",
          "name": "stderr",
          "text": [
            "<ipython-input-58-2c2c7614f36d>:3: DataConversionWarning: A column-vector y was passed when a 1d array was expected. Please change the shape of y to (n_samples,), for example using ravel().\n",
            "  clf_task4.fit(x_task4.head(100),y_task4.head(100))\n"
          ]
        }
      ]
    },
    {
      "cell_type": "code",
      "source": [
        "# Decision Tree\n",
        "clf_DT_task4_new = DecisionTreeClassifier(criterion=\"gini\", random_state=42, max_depth=3, min_samples_leaf=5)\n",
        "clf_DT_task4_new.fit(X_task4_train_new, Y_task4_train_new)\n",
        "y_pred_DT_task4_new = clf_DT_task4_new.predict(X_task4_test_new)\n",
        "\n",
        "aces_DT_task4_new = round(metrics.accuracy_score(Y_task4_test_new,y_pred_DT_task4_new),4)\n",
        "precision_DT_task4_new = round(metrics.precision_score(Y_task4_test_new, y_pred_DT_task4_new, average='macro'),4)\n",
        "recall_DT_task4_new = round(metrics.recall_score(Y_task4_test_new, y_pred_DT_task4_new, average='macro'),4)\n",
        "f1_DT_task4_new = round(metrics.f1_score(Y_task4_test_new, y_pred_DT_task4_new, average='macro'),4)"
      ],
      "metadata": {
        "id": "2GRhY_dWxEhc"
      },
      "execution_count": 59,
      "outputs": []
    },
    {
      "cell_type": "code",
      "source": [
        "# kNN\n",
        "kNN_task4_new = KNeighborsClassifier(n_neighbors = 5)\n",
        "kNN_task4_new.fit(X_task4_train_new, Y_task4_train_new)\n",
        "y_pred_kNN_task4_new = kNN_task4_new.predict(X_task4_test_new)\n",
        "\n",
        "aces_kNN_task4_new = round(metrics.accuracy_score(Y_task4_test_new, y_pred_kNN_task4_new ),4)\n",
        "precision_kNN_task4_new = round(metrics.precision_score(Y_task4_test_new, y_pred_kNN_task4_new, average='macro'),4)\n",
        "recall_kNN_task4_new = round(metrics.recall_score(Y_task4_test_new, y_pred_kNN_task4_new , average='macro'),4)\n",
        "f1_kNN_task4_new = round(metrics.f1_score(Y_task4_test_new, y_pred_kNN_task4_new , average='macro'),4)"
      ],
      "metadata": {
        "colab": {
          "base_uri": "https://localhost:8080/"
        },
        "id": "HkLkB1wqxF_1",
        "outputId": "bdf78b31-6c64-4464-86e7-71c9ab87969f"
      },
      "execution_count": 60,
      "outputs": [
        {
          "output_type": "stream",
          "name": "stderr",
          "text": [
            "/usr/local/lib/python3.9/dist-packages/sklearn/neighbors/_classification.py:215: DataConversionWarning: A column-vector y was passed when a 1d array was expected. Please change the shape of y to (n_samples,), for example using ravel().\n",
            "  return self._fit(X, y)\n"
          ]
        }
      ]
    },
    {
      "cell_type": "code",
      "source": [
        "# Logistic Regression\n",
        "classifier = LogisticRegression(random_state = 0) \n",
        "classifier.fit(X_task4_train_new, Y_task4_train_new)\n",
        "y_pred_LR = classifier.predict(X_task4_test_new)\n",
        "\n",
        "aces_LR = metrics.accuracy_score(Y_task4_test_new, y_pred_LR)\n",
        "precision_LR = metrics.precision_score(Y_task4_test_new, y_pred_LR, average='macro')\n",
        "recall_LR = metrics.recall_score(Y_task4_test_new, y_pred_LR, average='macro')\n",
        "f1_LR = metrics.f1_score(Y_task4_test_new, y_pred_LR, average='macro')"
      ],
      "metadata": {
        "colab": {
          "base_uri": "https://localhost:8080/"
        },
        "id": "yFXiVlRjxHYr",
        "outputId": "958bed65-b530-41a3-a187-9cc57e3b7eeb"
      },
      "execution_count": 61,
      "outputs": [
        {
          "output_type": "stream",
          "name": "stderr",
          "text": [
            "/usr/local/lib/python3.9/dist-packages/sklearn/utils/validation.py:1143: DataConversionWarning: A column-vector y was passed when a 1d array was expected. Please change the shape of y to (n_samples, ), for example using ravel().\n",
            "  y = column_or_1d(y, warn=True)\n"
          ]
        }
      ]
    },
    {
      "cell_type": "code",
      "source": [
        "# Suport Vector Machine \n",
        "# Linear Kernel using selection feature\n",
        "smv_ln_new = svm.SVC(kernel='linear')\n",
        "smv_ln_new.fit(X_task4_train_new, Y_task4_train_new)\n",
        "y_pred_ln_new = smv_ln_new.predict(X_task4_test_new)\n",
        "\n",
        "aces_LN_new = round(metrics.accuracy_score(Y_task4_test_new, y_pred_ln_new),4)\n",
        "precision_LN_new = round(metrics.precision_score(Y_task4_test_new, y_pred_ln_new, average='macro'),4)\n",
        "recall_LN_new = round(metrics.recall_score(Y_task4_test_new, y_pred_ln_new, average='macro'),4)\n",
        "f1_LN_new = round(metrics.f1_score(Y_task4_test_new, y_pred_ln_new, average='macro'),4)"
      ],
      "metadata": {
        "colab": {
          "base_uri": "https://localhost:8080/"
        },
        "id": "fDQl5I4cxJAM",
        "outputId": "4a0e7a10-7a53-4278-a595-5730731013af"
      },
      "execution_count": 62,
      "outputs": [
        {
          "output_type": "stream",
          "name": "stderr",
          "text": [
            "/usr/local/lib/python3.9/dist-packages/sklearn/utils/validation.py:1143: DataConversionWarning: A column-vector y was passed when a 1d array was expected. Please change the shape of y to (n_samples, ), for example using ravel().\n",
            "  y = column_or_1d(y, warn=True)\n"
          ]
        }
      ]
    },
    {
      "cell_type": "code",
      "source": [
        "# Random Forest \n",
        "rf_task4 = RandomForestClassifier(n_estimators=100)\n",
        "rf_task4.fit(X_task4_train_new, Y_task4_train_new)\n",
        "y_pred_rf_task4 = rf_task4.predict(X_task4_test_new)\n",
        "\n",
        "aces_RF_task4_new = round(metrics.accuracy_score(Y_task4_test_new, y_pred_rf_task4),4)\n",
        "precision_RF_task4_new = round(metrics.precision_score(Y_task4_test_new,y_pred_rf_task4, average='macro'),4)\n",
        "recall_RF_task4_new = round(metrics.recall_score(Y_task4_test_new, y_pred_rf_task4, average='macro'),4)\n",
        "f1_RF_task4_new = round(metrics.f1_score(Y_task4_test_new, y_pred_rf_task4, average='macro'),4)"
      ],
      "metadata": {
        "colab": {
          "base_uri": "https://localhost:8080/"
        },
        "id": "TVy24IXyxKY8",
        "outputId": "0cf260f0-0227-4ce1-c8d4-f6cc10ef6579"
      },
      "execution_count": 63,
      "outputs": [
        {
          "output_type": "stream",
          "name": "stderr",
          "text": [
            "<ipython-input-63-ef43064234a4>:3: DataConversionWarning: A column-vector y was passed when a 1d array was expected. Please change the shape of y to (n_samples,), for example using ravel().\n",
            "  rf_task4.fit(X_task4_train_new, Y_task4_train_new)\n"
          ]
        }
      ]
    },
    {
      "cell_type": "code",
      "source": [
        "# NaiveBayes \n",
        "nb_task4 = GaussianNB()\n",
        "nb_task4.fit(X_task4_train_new, Y_task4_train_new)\n",
        "y_pred_NB_task4 = nb_task4.predict(X_task4_test_new)\n",
        "\n",
        "aces_NB_task4_new = round(metrics.accuracy_score(Y_task4_test_new, y_pred_NB_task4),4)\n",
        "precision_NB_task4_new =round(metrics.precision_score(Y_task4_test_new, y_pred_NB_task4, average='macro'),4)\n",
        "recall_NB_task4_new = round(metrics.recall_score(Y_task4_test_new, y_pred_NB_task4, average='macro'),4)\n",
        "f1_NB_task4_new = round(metrics.f1_score(Y_task4_test_new, y_pred_NB_task4, average='macro'),4)"
      ],
      "metadata": {
        "colab": {
          "base_uri": "https://localhost:8080/"
        },
        "id": "C9D2sX-vxOSV",
        "outputId": "12bf9fb3-000c-47ef-cd45-7a12bac9f391"
      },
      "execution_count": 64,
      "outputs": [
        {
          "output_type": "stream",
          "name": "stderr",
          "text": [
            "/usr/local/lib/python3.9/dist-packages/sklearn/utils/validation.py:1143: DataConversionWarning: A column-vector y was passed when a 1d array was expected. Please change the shape of y to (n_samples, ), for example using ravel().\n",
            "  y = column_or_1d(y, warn=True)\n"
          ]
        }
      ]
    },
    {
      "cell_type": "code",
      "source": [
        "table_task4_new = PrettyTable([\"\",\"Accuracy\", \"Precision\", \"Recall\", \"F1\"])\n",
        "\n",
        "table_task4_new.add_row([\"Decision Tree \", aces_DT_task4_new , precision_DT_task4_new, recall_DT_task4_new, f1_DT_task4_new])\n",
        "table_task4_new.add_row([\"KNN  \", aces_kNN_task4_new, precision_kNN_task4_new, recall_kNN_task4_new, f1_kNN_task4_new])\n",
        "table_task4_new.add_row([\"Logistic Regression  \", aces_LR, precision_LR, recall_LR, f1_LR])\n",
        "table_task4_new.add_row([\"Suport Vector Machine  \",aces_LN_new, precision_LN_new, recall_LN_new, f1_LN_new])\n",
        "table_task4_new.add_row([\"Random Forest  \",aces_RF_task4_new, precision_RF_task4_new, recall_RF_task4_new, f1_RF_task4_new])\n",
        "table_task4_new.add_row([\"NaiveBayes   \", aces_NB_task4_new, precision_NB_task4_new, recall_NB_task4_new, f1_NB_task4_new])\n",
        "\n",
        "print(table_task4_new)"
      ],
      "metadata": {
        "colab": {
          "base_uri": "https://localhost:8080/"
        },
        "id": "_M02WcsKxQAU",
        "outputId": "25840440-06dc-4285-bb29-92635f926624"
      },
      "execution_count": 65,
      "outputs": [
        {
          "output_type": "stream",
          "name": "stdout",
          "text": [
            "+-------------------------+--------------------+--------------------+--------------------+--------------------+\n",
            "|                         |      Accuracy      |     Precision      |       Recall       |         F1         |\n",
            "+-------------------------+--------------------+--------------------+--------------------+--------------------+\n",
            "|      Decision Tree      |       0.9984       |       0.7492       |       0.5148       |       0.5276       |\n",
            "|          KNN            |       0.9984       |       0.8326       |       0.5074       |       0.5141       |\n",
            "|  Logistic Regression    | 0.9982795547909132 | 0.5617215575871797 | 0.5073253517971481 | 0.5128145414149226 |\n",
            "| Suport Vector Machine   |       0.9979       |       0.5201       |       0.5071       |       0.5104       |\n",
            "|     Random Forest       |       0.9988       |       0.9847       |       0.6222       |       0.695        |\n",
            "|      NaiveBayes         |       0.9949       |       0.5263       |       0.5648       |       0.5372       |\n",
            "+-------------------------+--------------------+--------------------+--------------------+--------------------+\n"
          ]
        }
      ]
    },
    {
      "cell_type": "markdown",
      "source": [
        "#Finally,\n",
        "Save a copy in your Github. Remember renaming the notebook."
      ],
      "metadata": {
        "id": "Ok7RGkea_b7n"
      }
    }
  ]
}