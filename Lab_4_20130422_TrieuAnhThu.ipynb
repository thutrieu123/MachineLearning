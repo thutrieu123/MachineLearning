{
  "nbformat": 4,
  "nbformat_minor": 0,
  "metadata": {
    "colab": {
      "provenance": [],
      "include_colab_link": true
    },
    "kernelspec": {
      "name": "python3",
      "display_name": "Python 3"
    },
    "language_info": {
      "name": "python"
    }
  },
  "cells": [
    {
      "cell_type": "markdown",
      "metadata": {
        "id": "view-in-github",
        "colab_type": "text"
      },
      "source": [
        "<a href=\"https://colab.research.google.com/github/thutrieu123/MachineLearning/blob/main/Lab_4_20130422_TrieuAnhThu.ipynb\" target=\"_parent\"><img src=\"https://colab.research.google.com/assets/colab-badge.svg\" alt=\"Open In Colab\"/></a>"
      ]
    },
    {
      "cell_type": "markdown",
      "source": [
        "# This lab is to continous dealing with **Logistic Regression**, **kNN**, and **Decision Tree** alogirthms applied to classification tasks. \n",
        "\n",
        "*   **Deadline: 23:59, 12/03/2023**\n",
        "\n"
      ],
      "metadata": {
        "id": "LMzehe0sy5wr"
      }
    },
    {
      "cell_type": "markdown",
      "source": [
        "# Import libraries"
      ],
      "metadata": {
        "id": "H4nJmxp9zGX4"
      }
    },
    {
      "cell_type": "code",
      "execution_count": null,
      "metadata": {
        "id": "DoVWQ8AEyc-C"
      },
      "outputs": [],
      "source": [
        "# code\n",
        "from sklearn.tree import DecisionTreeClassifier\n",
        "from sklearn.linear_model import LogisticRegression\n",
        "from sklearn.neighbors import KNeighborsClassifier\n",
        "import matplotlib.pyplot as plt\n",
        "import sklearn.metrics as metrics\n",
        "from sklearn.linear_model import LinearRegression\n",
        "from warnings import simplefilter\n",
        "from sklearn.metrics import confusion_matrix \n",
        "from sklearn.metrics import ConfusionMatrixDisplay\n",
        "from sklearn.model_selection import train_test_split\n",
        "from sklearn.metrics import accuracy_score\n",
        "from sklearn import datasets\n",
        "import pandas as pd"
      ]
    },
    {
      "cell_type": "code",
      "source": [
        "from google.colab import drive\n",
        "drive.mount('/content/gdrive')\n",
        "%cd '/content/gdrive/MyDrive/ML/Lab4'"
      ],
      "metadata": {
        "colab": {
          "base_uri": "https://localhost:8080/"
        },
        "id": "FGCeAQzcMrAD",
        "outputId": "06b2f4bd-a457-4fb5-b8b0-e4ebce10148b"
      },
      "execution_count": null,
      "outputs": [
        {
          "output_type": "stream",
          "name": "stdout",
          "text": [
            "Mounted at /content/gdrive\n",
            "/content/gdrive/MyDrive/ML/Lab4\n"
          ]
        }
      ]
    },
    {
      "cell_type": "markdown",
      "source": [
        "#Task 1. \n",
        "Apply **LogisticRegression** to iris dataset which aims at classifying species of iris based on sepal_length (chiều dài đài hoa), sepal_width, petal_length (chiều dài cánh hoa), petal_width. The species are '**setosa**' '**versicolor**' and '**virginica**'. \n",
        "\n",
        "\n",
        "\n",
        "```\n",
        "from sklearn import datasets\n",
        "data4 = datasets.load_iris()\n",
        "```\n",
        "\n",
        "\n"
      ],
      "metadata": {
        "id": "kNv07ARGzOUm"
      }
    },
    {
      "cell_type": "code",
      "source": [
        "# code\n",
        "data = datasets.load_iris()\n",
        "x = data['data']\n",
        "y = data['target']\n",
        "print(x)\n",
        "print(y)"
      ],
      "metadata": {
        "id": "sOsg77IBzEyo"
      },
      "execution_count": null,
      "outputs": []
    },
    {
      "cell_type": "code",
      "source": [
        "classifier = LogisticRegression(random_state = 0)\n",
        "x_train, x_test, y_train, y_test = train_test_split(x, y, test_size = 0.2, random_state=None)\n",
        "classifier.fit(x_train, y_train)\n",
        "y_pred = classifier.predict(x_test)\n",
        "cm = confusion_matrix(y_test, y_pred)\n",
        "print(cm)\n",
        "print (\"Accuracy : \", accuracy_score(y_test, y_pred))"
      ],
      "metadata": {
        "colab": {
          "base_uri": "https://localhost:8080/"
        },
        "id": "ppt4bSelyc8C",
        "outputId": "e369b699-3ae0-4cdd-f23e-a15d50e5d647"
      },
      "execution_count": null,
      "outputs": [
        {
          "output_type": "stream",
          "name": "stdout",
          "text": [
            "[[12  0  0]\n",
            " [ 0  9  0]\n",
            " [ 0  2  7]]\n",
            "Accuracy :  0.9333333333333333\n"
          ]
        },
        {
          "output_type": "stream",
          "name": "stderr",
          "text": [
            "/usr/local/lib/python3.9/dist-packages/sklearn/linear_model/_logistic.py:458: ConvergenceWarning: lbfgs failed to converge (status=1):\n",
            "STOP: TOTAL NO. of ITERATIONS REACHED LIMIT.\n",
            "\n",
            "Increase the number of iterations (max_iter) or scale the data as shown in:\n",
            "    https://scikit-learn.org/stable/modules/preprocessing.html\n",
            "Please also refer to the documentation for alternative solver options:\n",
            "    https://scikit-learn.org/stable/modules/linear_model.html#logistic-regression\n",
            "  n_iter_i = _check_optimize_result(\n"
          ]
        }
      ]
    },
    {
      "cell_type": "code",
      "source": [
        "ConfusionMatrixDisplay.from_predictions(y_test, y_pred)"
      ],
      "metadata": {
        "colab": {
          "base_uri": "https://localhost:8080/",
          "height": 301
        },
        "id": "TH92Uwy9zb2b",
        "outputId": "b341bd63-2684-4d6c-c0af-70bb2218b285"
      },
      "execution_count": null,
      "outputs": [
        {
          "output_type": "execute_result",
          "data": {
            "text/plain": [
              "<sklearn.metrics._plot.confusion_matrix.ConfusionMatrixDisplay at 0x7f3e617bac10>"
            ]
          },
          "metadata": {},
          "execution_count": 4
        },
        {
          "output_type": "display_data",
          "data": {
            "text/plain": [
              "<Figure size 432x288 with 2 Axes>"
            ],
            "image/png": "[encoded data removed]"
          },
          "metadata": {
            "needs_background": "light"
          }
        }
      ]
    },
    {
      "cell_type": "markdown",
      "source": [
        "#Task 2. \n",
        "Apply LogisticRegression to **MNIST** dataset (mnist.csv) which aims at classifying handwritten digits. Dataset includes 784 pixels values of images (28x28). \n",
        "\n",
        "\n",
        "```\n",
        "from sklearn import datasets\n",
        "# load the MNIST digits dataset\n",
        "mnist = datasets.load_digits()\n",
        "```\n",
        "\n"
      ],
      "metadata": {
        "id": "S43IoUT-0OQq"
      }
    },
    {
      "cell_type": "code",
      "source": [
        "mnist = datasets.load_digits()\n",
        "x1 = mnist['data']\n",
        "y1 = mnist['target']\n",
        "# print(x)\n",
        "# print(y)\n",
        "classifier1 = LogisticRegression(random_state = 0) \n",
        "X1_train, X1_test, Y1_train, Y1_test = train_test_split(x1,y1, test_size = 0.3,random_state=None, shuffle=True, stratify=None)\n",
        "classifier1.fit(X1_train, Y1_train) \n",
        "y1_pred = classifier1.predict(X1_test)\n",
        "cm1 = confusion_matrix(Y1_test, y1_pred) \n",
        "print(cm1)\n",
        "print(\"Accuracy : \", accuracy_score(Y1_test, y1_pred))"
      ],
      "metadata": {
        "id": "dLKxo6Mz0hej",
        "colab": {
          "base_uri": "https://localhost:8080/"
        },
        "outputId": "b64c509e-c993-4db2-fbf6-4b64dc25593f"
      },
      "execution_count": null,
      "outputs": [
        {
          "output_type": "stream",
          "name": "stdout",
          "text": [
            "[[54  0  0  0  0  0  0  0  0  0]\n",
            " [ 0 46  0  0  0  0  0  0  2  0]\n",
            " [ 1  0 49  0  0  0  0  0  0  0]\n",
            " [ 0  0  1 52  0  0  0  0  2  1]\n",
            " [ 0  2  0  0 56  0  0  1  1  0]\n",
            " [ 0  0  0  1  0 51  0  0  0  1]\n",
            " [ 0  1  0  0  0  0 63  0  0  0]\n",
            " [ 0  0  0  1  0  1  0 46  0  0]\n",
            " [ 1  3  0  0  0  0  0  0 46  0]\n",
            " [ 0  0  0  0  0  1  0  0  1 55]]\n",
            "Accuracy :  0.9592592592592593\n"
          ]
        },
        {
          "output_type": "stream",
          "name": "stderr",
          "text": [
            "/usr/local/lib/python3.9/dist-packages/sklearn/linear_model/_logistic.py:458: ConvergenceWarning: lbfgs failed to converge (status=1):\n",
            "STOP: TOTAL NO. of ITERATIONS REACHED LIMIT.\n",
            "\n",
            "Increase the number of iterations (max_iter) or scale the data as shown in:\n",
            "    https://scikit-learn.org/stable/modules/preprocessing.html\n",
            "Please also refer to the documentation for alternative solver options:\n",
            "    https://scikit-learn.org/stable/modules/linear_model.html#logistic-regression\n",
            "  n_iter_i = _check_optimize_result(\n"
          ]
        }
      ]
    },
    {
      "cell_type": "code",
      "source": [
        "ConfusionMatrixDisplay.from_predictions(Y1_test, y1_pred)"
      ],
      "metadata": {
        "colab": {
          "base_uri": "https://localhost:8080/",
          "height": 297
        },
        "id": "Hhk_BtOqGPfm",
        "outputId": "ffc9cf76-8a21-42a3-80df-7f0f7082d49e"
      },
      "execution_count": null,
      "outputs": [
        {
          "output_type": "execute_result",
          "data": {
            "text/plain": [
              "<sklearn.metrics._plot.confusion_matrix.ConfusionMatrixDisplay at 0x7f3e56fb35e0>"
            ]
          },
          "metadata": {},
          "execution_count": 28
        },
        {
          "output_type": "display_data",
          "data": {
            "text/plain": [
              "<Figure size 432x288 with 2 Axes>"
            ],
            "image/png": "[encoded data removed]"
          },
          "metadata": {
            "needs_background": "light"
          }
        }
      ]
    },
    {
      "cell_type": "markdown",
      "source": [
        "#Task 3. \n",
        "Apply another classification algorithm named kNN, which is an instance classifcation model. \n",
        "*  3.1. Perform kNN algorithm to Iris dataset with k={1, 3, 5, …, 29}. Select the best value of k.\n",
        "\n",
        "*   3.2. Then compare the obtained results with those using Logistic regression (based on metrics: accuracy, precision, recall, f1 measure).\n"
      ],
      "metadata": {
        "id": "Rti2y0Wz2KY9"
      }
    },
    {
      "cell_type": "code",
      "source": [
        "# code\n",
        "k_range = range(1,30,2)\n",
        "aces =[]\n",
        "precision =[]\n",
        "recall = []\n",
        "f1 = []\n",
        "for k in k_range:\n",
        "  kNN = KNeighborsClassifier(n_neighbors = k)\n",
        "  kNN.fit(x_train,y_train)\n",
        "  y_pred = kNN.predict(x_test)\n",
        "\n",
        "  aces.append(metrics.accuracy_score(y_test, y_pred))\n",
        "  precision.append(metrics.precision_score(y_test, y_pred, average='macro'))\n",
        "  recall.append(metrics.recall_score(y_test, y_pred, average='macro'))\n",
        "  f1.append(metrics.f1_score(y_test, y_pred, average='macro'))\n",
        "\n",
        "plt.plot(k_range,aces,label='aces')\n",
        "plt.plot(k_range,precision,label='precision')\n",
        "plt.plot(k_range,recall,label='recall')\n",
        "plt.plot(k_range,f1,label='f1')\n",
        "plt.xlabel(\"k\") \n",
        "plt.legend()"
      ],
      "metadata": {
        "id": "13LkkfpS2ZUR",
        "colab": {
          "base_uri": "https://localhost:8080/",
          "height": 297
        },
        "outputId": "4b0b2e9b-d3a9-4139-9f0f-4171478e230b"
      },
      "execution_count": null,
      "outputs": [
        {
          "output_type": "execute_result",
          "data": {
            "text/plain": [
              "<matplotlib.legend.Legend at 0x7f3e5ecf7f40>"
            ]
          },
          "metadata": {},
          "execution_count": 5
        },
        {
          "output_type": "display_data",
          "data": {
            "text/plain": [
              "<Figure size 432x288 with 1 Axes>"
            ],
            "image/png": "[encoded data removed]"
          },
          "metadata": {
            "needs_background": "light"
          }
        }
      ]
    },
    {
      "cell_type": "markdown",
      "source": [
        "#Task 4. \n",
        "Similar to Task 3, apply kNN algorithm to **mnist** dataset which included in datasets of sklearn API.\n",
        "*  4.1.\tPerform kNN algorithm to Iris dataset with k={1, 3, 5, …, 29}. Select the best value of k.\n",
        "*  4.2.\tThen compare the obtained results with those using Logistic regression (based on metrics: accuracy, precision, recall, f1 measure).\n"
      ],
      "metadata": {
        "id": "b52OPWPD2afi"
      }
    },
    {
      "cell_type": "code",
      "source": [
        "# code\n",
        "k1_range = range(1,30,2)\n",
        "aces =[]\n",
        "precision =[]\n",
        "recall = []\n",
        "f1 = []\n",
        "for k in k1_range:\n",
        "  kNN = KNeighborsClassifier(n_neighbors = k)\n",
        "  kNN.fit(X1_train,Y1_train)\n",
        "  y1_pred = kNN.predict(X1_test)\n",
        "\n",
        "  aces.append(metrics.accuracy_score(Y1_test, y1_pred))\n",
        "  precision.append(metrics.precision_score(Y1_test, y1_pred, average='macro'))\n",
        "  recall.append(metrics.recall_score(Y1_test, y1_pred, average='macro'))\n",
        "  f1.append(metrics.f1_score(Y1_test, y1_pred, average='macro'))\n",
        "\n",
        "plt.plot(k1_range,aces,label='aces')\n",
        "plt.plot(k1_range,precision,label='precision')\n",
        "plt.plot(k1_range,recall,label='recall')\n",
        "plt.plot(k1_range,f1,label='f1')\n",
        "plt.xlabel(\"k\") \n",
        "plt.legend()"
      ],
      "metadata": {
        "id": "Rw_-8FIf2KxW",
        "colab": {
          "base_uri": "https://localhost:8080/",
          "height": 297
        },
        "outputId": "cf313efc-70e7-421c-d3f3-08568c83d9e2"
      },
      "execution_count": null,
      "outputs": [
        {
          "output_type": "execute_result",
          "data": {
            "text/plain": [
              "<matplotlib.legend.Legend at 0x7f3e5715d7f0>"
            ]
          },
          "metadata": {},
          "execution_count": 29
        },
        {
          "output_type": "display_data",
          "data": {
            "text/plain": [
              "<Figure size 432x288 with 1 Axes>"
            ],
            "image/png": "[encoded data removed]"
          },
          "metadata": {
            "needs_background": "light"
          }
        }
      ]
    },
    {
      "cell_type": "markdown",
      "source": [
        "#Task 5. \n",
        "Compare the performance of selected classification algorithms (**Decision Tree, kNN, and Logistic Regression**) to ***spam detection***. The dataset can be accessed from the link: http://archive.ics.uci.edu/ml/datasets/Spambase \n",
        "Attribute Information:\n",
        "The last column of 'spambase.csv denotes whether the e-mail was considered spam (1) or not (0), i.e. unsolicited commercial e-mail. Most of the attributes indicate whether a particular word or character was frequently occuring in the e-mail. The run-length attributes (55-57) measure the length of sequences of consecutive capital letters. For the statistical measures of each attribute, see the end of this file. Here are the definitions of the attributes: \n",
        "*  48 continuous real [0,100] attributes of type word_freq_WORD \n",
        "= percentage of words in the e-mail that match WORD, i.e. 100 * (number of times the WORD appears in the e-mail) / total number of words in e-mail. A \"word\" in this case is any string of alphanumeric characters bounded by non-alphanumeric characters or end-of-string. **Example**: word_freq_address: percentage of words in the e-mail that match ADDRESS.\n",
        "*  6 continuous real [0,100] attributes of type char_freq_CHAR] \n",
        "= percentage of characters in the e-mail that match CHAR, i.e. 100 * (number of CHAR occurences) / total characters in e-mail\n",
        "*  1 continuous real [1,...] attribute of type capital_run_length_average \n",
        "= average length of uninterrupted sequences of capital letters\n",
        "*  1 continuous integer [1,...] attribute of type capital_run_length_longest \n",
        "= length of longest uninterrupted sequence of capital letters\n",
        "*  1 continuous integer [1,...] attribute of type capital_run_length_total = sum of length of uninterrupted sequences of capital letters = total number of capital letters in the e-mail\n",
        "*  1 nominal {0,1} class attribute of type spam = denotes whether the e-mail was considered spam (1) or not (0), i.e. unsolicited commercial e-mail. \n",
        "\n",
        "\n",
        "---\n",
        "\n",
        "\n",
        "In order to compare the performance of selected algorithms, some common metrics including **accuracy, precision, recall, f1 measures** could be used.\n"
      ],
      "metadata": {
        "id": "MVzSk4l505E0"
      }
    },
    {
      "cell_type": "code",
      "source": [
        "# code\n",
        "df = pd.read_csv('spambase.csv')\n",
        "x5 = df.iloc[:,:-1]\n",
        "y5 = df[[ 'class']]\n",
        "X5_train, X5_test, Y5_train, Y5_test = train_test_split(x5, y5, test_size = 0.3, train_size= 0.7,random_state = None,shuffle=True, stratify=None)\n",
        "\n",
        "aces =[]\n",
        "precision =[]\n",
        "recall = []\n",
        "f1 = []"
      ],
      "metadata": {
        "id": "W_1v_ivR2f6D"
      },
      "execution_count": null,
      "outputs": []
    },
    {
      "cell_type": "code",
      "source": [
        "# Decision Tree\n",
        "clf_model = DecisionTreeClassifier(criterion=\"gini\", random_state=42,\n",
        "max_depth=3, min_samples_leaf=5)\n",
        "clf_model.fit(X5_train,Y5_train)\n",
        "y_pred_DT = clf_model.predict(X5_test)\n",
        "\n",
        "cm = confusion_matrix(Y5_test, y_pred_LR)\n",
        "print(cm)\n",
        "print (\"Accuracy Decision Tree: \", accuracy_score(Y5_test, y_pred_LR))\n",
        "\n",
        "aces_DT = metrics.accuracy_score(Y5_test, y_pred_DT)\n",
        "precision_DT = metrics.precision_score(Y5_test, y_pred_DT, average='macro')\n",
        "recall_DT = metrics.recall_score(Y5_test, y_pred_DT, average='macro')\n",
        "f1_DT = metrics.f1_score(Y5_test, y_pred_DT, average='macro')\n",
        "\n",
        "aces.append(aces_DT)\n",
        "precision.append(precision_DT)\n",
        "recall.append(recall_DT)\n",
        "f1.append(f1_DT)"
      ],
      "metadata": {
        "colab": {
          "base_uri": "https://localhost:8080/"
        },
        "id": "SiFZsYkXM-9z",
        "outputId": "1239657d-8de2-4f18-f3e1-40f1771ee8ab"
      },
      "execution_count": null,
      "outputs": [
        {
          "output_type": "stream",
          "name": "stdout",
          "text": [
            "[[529 323]\n",
            " [331 198]]\n",
            "Accuracy Decision Tree:  0.5264301230992035\n"
          ]
        }
      ]
    },
    {
      "cell_type": "code",
      "source": [
        "# Logistic Refression\n",
        "classifier = LogisticRegression(random_state = 0)\n",
        "classifier.fit(X5_train, Y5_train)\n",
        "y_pred_LR = classifier.predict(X5_test)\n",
        "\n",
        "cm = confusion_matrix(Y5_test, y_pred_LR)\n",
        "print(cm)\n",
        "print (\"Accuracy Logistic Refression: \", accuracy_score(Y5_test, y_pred_LR))\n",
        "\n",
        "aces_LR = metrics.accuracy_score(Y5_test, y_pred_LR)\n",
        "precision_LR = metrics.precision_score(Y5_test, y_pred_LR, average='macro')\n",
        "recall_LR = metrics.recall_score(Y5_test, y_pred_LR, average='macro')\n",
        "f1_LR = metrics.f1_score(Y5_test, y_pred_LR, average='macro')\n",
        "\n",
        "aces.append(aces_LR)\n",
        "precision.append(precision_LR)\n",
        "recall.append(recall_LR)\n",
        "f1.append(f1_LR)"
      ],
      "metadata": {
        "colab": {
          "base_uri": "https://localhost:8080/"
        },
        "id": "i38P3S-FNBIO",
        "outputId": "9c6103da-0494-44d0-9080-29e605e07d85"
      },
      "execution_count": null,
      "outputs": [
        {
          "output_type": "stream",
          "name": "stdout",
          "text": [
            "[[806  46]\n",
            " [ 57 472]]\n",
            "Accuracy Logistic Refression:  0.9254163649529327\n"
          ]
        },
        {
          "output_type": "stream",
          "name": "stderr",
          "text": [
            "/usr/local/lib/python3.9/dist-packages/sklearn/utils/validation.py:1143: DataConversionWarning: A column-vector y was passed when a 1d array was expected. Please change the shape of y to (n_samples, ), for example using ravel().\n",
            "  y = column_or_1d(y, warn=True)\n",
            "/usr/local/lib/python3.9/dist-packages/sklearn/linear_model/_logistic.py:458: ConvergenceWarning: lbfgs failed to converge (status=1):\n",
            "STOP: TOTAL NO. of ITERATIONS REACHED LIMIT.\n",
            "\n",
            "Increase the number of iterations (max_iter) or scale the data as shown in:\n",
            "    https://scikit-learn.org/stable/modules/preprocessing.html\n",
            "Please also refer to the documentation for alternative solver options:\n",
            "    https://scikit-learn.org/stable/modules/linear_model.html#logistic-regression\n",
            "  n_iter_i = _check_optimize_result(\n"
          ]
        }
      ]
    },
    {
      "cell_type": "code",
      "source": [
        "# kNN\n",
        "kNN = KNeighborsClassifier(n_neighbors = 5)\n",
        "kNN.fit(X5_train,Y5_train)\n",
        "y_pred_kNN = kNN.predict(X5_test)\n",
        "\n",
        "cm = confusion_matrix(Y5_test, y_pred_LR)\n",
        "print(cm)\n",
        "print (\"Accuracy kNN: \", accuracy_score(Y5_test, y_pred_LR))\n",
        "\n",
        "aces_kNN = metrics.accuracy_score(Y5_test, y_pred_kNN)\n",
        "precision_kNN = metrics.precision_score(Y5_test, y_pred_kNN, average='macro')\n",
        "recall_kNN = metrics.recall_score(Y5_test, y_pred_kNN, average='macro')\n",
        "f1_kNN = metrics.f1_score(Y5_test, y_pred_kNN, average='macro')\n",
        "\n",
        "aces.append(aces_kNN)\n",
        "precision.append(precision_kNN)\n",
        "recall.append(recall_kNN)\n",
        "f1.append(f1_kNN)"
      ],
      "metadata": {
        "colab": {
          "base_uri": "https://localhost:8080/"
        },
        "id": "WcELLgrqNEG1",
        "outputId": "fa8cad4f-a4d9-4476-85f3-7f89b40351ca"
      },
      "execution_count": null,
      "outputs": [
        {
          "output_type": "stream",
          "name": "stdout",
          "text": [
            "[[806  46]\n",
            " [ 57 472]]\n",
            "Accuracy kNN:  0.9254163649529327\n"
          ]
        },
        {
          "output_type": "stream",
          "name": "stderr",
          "text": [
            "/usr/local/lib/python3.9/dist-packages/sklearn/neighbors/_classification.py:215: DataConversionWarning: A column-vector y was passed when a 1d array was expected. Please change the shape of y to (n_samples,), for example using ravel().\n",
            "  return self._fit(X, y)\n"
          ]
        }
      ]
    },
    {
      "cell_type": "code",
      "source": [
        "name = ['Logistic Regression','Decision Tree','kNN']\n",
        "plt.bar(name,aces,color='orange')\n",
        "plt.show"
      ],
      "metadata": {
        "colab": {
          "base_uri": "https://localhost:8080/",
          "height": 283
        },
        "id": "kMqFxOt7OvJb",
        "outputId": "1a68eb17-0f2b-4b9e-a71e-3b0b2cf2e2aa"
      },
      "execution_count": null,
      "outputs": [
        {
          "output_type": "execute_result",
          "data": {
            "text/plain": [
              "<function matplotlib.pyplot.show(close=None, block=None)>"
            ]
          },
          "metadata": {},
          "execution_count": 44
        },
        {
          "output_type": "display_data",
          "data": {
            "text/plain": [
              "<Figure size 432x288 with 1 Axes>"
            ],
            "image/png": "[encoded data removed]"
          },
          "metadata": {
            "needs_background": "light"
          }
        }
      ]
    },
    {
      "cell_type": "markdown",
      "source": [
        "#Finally,\n",
        "Save a copy in your Github. Remember renaming the notebook."
      ],
      "metadata": {
        "id": "Ok7RGkea_b7n"
      }
    }
  ]
}