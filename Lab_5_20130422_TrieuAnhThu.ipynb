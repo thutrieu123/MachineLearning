{
  "nbformat": 4,
  "nbformat_minor": 0,
  "metadata": {
    "colab": {
      "provenance": [],
      "include_colab_link": true
    },
    "kernelspec": {
      "name": "python3",
      "display_name": "Python 3"
    },
    "language_info": {
      "name": "python"
    }
  },
  "cells": [
    {
      "cell_type": "markdown",
      "metadata": {
        "id": "view-in-github",
        "colab_type": "text"
      },
      "source": [
        "<a href=\"https://colab.research.google.com/github/thutrieu123/MachineLearning/blob/main/Lab_5_20130422_TrieuAnhThu.ipynb\" target=\"_parent\"><img src=\"https://colab.research.google.com/assets/colab-badge.svg\" alt=\"Open In Colab\"/></a>"
      ]
    },
    {
      "cell_type": "markdown",
      "source": [
        "# This lab is to deal with **SVM** to classification tasks and compare its performance with other competitive algorithms. In general, **SVM** is one of the most popular and widely used supervised machine learning algorithms.\n",
        "\n",
        "*   **Deadline: 23:59, 17/03/2023**\n",
        "\n"
      ],
      "metadata": {
        "id": "LMzehe0sy5wr"
      }
    },
    {
      "cell_type": "markdown",
      "source": [
        "# Import libraries"
      ],
      "metadata": {
        "id": "H4nJmxp9zGX4"
      }
    },
    {
      "cell_type": "code",
      "execution_count": 47,
      "metadata": {
        "id": "DoVWQ8AEyc-C"
      },
      "outputs": [],
      "source": [
        "# code\n",
        "from sklearn import svm\n",
        "from sklearn.svm import SVC\n",
        "from sklearn import datasets\n",
        "import pandas as pd\n",
        "from sklearn.model_selection import train_test_split\n",
        "from sklearn.metrics import confusion_matrix \n",
        "from sklearn.metrics import accuracy_score\n",
        "import matplotlib.pyplot as plt\n",
        "import sklearn.metrics as metrics\n",
        "from sklearn.tree import DecisionTreeClassifier\n",
        "from sklearn.linear_model import LogisticRegression\n",
        "from sklearn.neighbors import KNeighborsClassifier\n",
        "from prettytable import PrettyTable"
      ]
    },
    {
      "cell_type": "code",
      "source": [
        "from google.colab import drive\n",
        "drive.mount('/content/gdrive')\n",
        "%cd '/content/gdrive/MyDrive/ML/Lab5'"
      ],
      "metadata": {
        "colab": {
          "base_uri": "https://localhost:8080/"
        },
        "id": "LFULUwdFpGJn",
        "outputId": "d1500f9a-1921-43ee-dbca-cc5f22fd5946"
      },
      "execution_count": 2,
      "outputs": [
        {
          "output_type": "stream",
          "name": "stdout",
          "text": [
            "Mounted at /content/gdrive\n",
            "/content/gdrive/MyDrive/ML/Lab5\n"
          ]
        }
      ]
    },
    {
      "cell_type": "markdown",
      "source": [
        "#Task 1. \n",
        "For breast cancer dataset (https://tinyurl.com/3vme8hr3) which could be loaded from datasets in sklearn as follows:\n",
        "\n",
        "```\n",
        "#Import scikit-learn dataset library\n",
        "from sklearn import datasets\n",
        "\n",
        "#Load dataset\n",
        "cancer = datasets.load_breast_cancer()\n",
        "```\n",
        "\n",
        "*   1.1.\tApply SVM algorithm to above dataset using linear kernel.\n",
        "*   1.2.\tCompare the obtained results with other competitive algorithms (Logistic Regression, Decision Tree, kNN) based on metrics: accuracy, precision, recall, f1 measures.\n",
        "\n"
      ],
      "metadata": {
        "id": "kNv07ARGzOUm"
      }
    },
    {
      "cell_type": "code",
      "source": [
        "# code\n",
        "cancer = datasets.load_breast_cancer()\n",
        "x = cancer['data']\n",
        "y = cancer['target']\n",
        "print(x)\n",
        "print(y)"
      ],
      "metadata": {
        "id": "sOsg77IBzEyo"
      },
      "execution_count": null,
      "outputs": []
    },
    {
      "cell_type": "markdown",
      "source": [
        "# **1.1**"
      ],
      "metadata": {
        "id": "sdkvCIVlqsrn"
      }
    },
    {
      "cell_type": "code",
      "source": [
        "#Create a svm Classifier\n",
        "clf = svm.SVC(kernel='linear') # Linear Kernel\n",
        "\n",
        "x_train, x_test, y_train, y_test = train_test_split(x, y, test_size = 0.3, train_size= 0.7,random_state = None,shuffle=True, stratify=None)\n",
        "\n",
        "aces =[]\n",
        "precision =[]\n",
        "recall = []\n",
        "f1 = []\n",
        "\n",
        "#Train the model using the training sets\n",
        "clf.fit(x_train, y_train)\n",
        "#Predict the response for test dataset\n",
        "y_pred_LK = clf.predict(x_test)\n",
        "\n",
        "cm = confusion_matrix(y_test, y_pred_LK)\n",
        "print(cm)\n",
        "print (\"Accuracy Linear Kernel: \", accuracy_score(y_test, y_pred_LK))"
      ],
      "metadata": {
        "colab": {
          "base_uri": "https://localhost:8080/"
        },
        "id": "vxREyuW6pey_",
        "outputId": "855c76c4-3dbe-4070-cce6-ca21df957e6e"
      },
      "execution_count": 4,
      "outputs": [
        {
          "output_type": "stream",
          "name": "stdout",
          "text": [
            "[[ 64   3]\n",
            " [  0 104]]\n",
            "Accuracy Linear Kernel:  0.9824561403508771\n"
          ]
        }
      ]
    },
    {
      "cell_type": "markdown",
      "source": [
        "# **1.2**"
      ],
      "metadata": {
        "id": "fxkQ77y8qu0v"
      }
    },
    {
      "cell_type": "code",
      "source": [
        "# Linear Kernel\n",
        "aces_LK = metrics.accuracy_score(y_test, y_pred_LK)\n",
        "precision_LK = metrics.precision_score(y_test, y_pred_LK, average='macro')\n",
        "recall_LK = metrics.recall_score(y_test, y_pred_LK, average='macro')\n",
        "f1_LK = metrics.f1_score(y_test, y_pred_LK, average='macro')"
      ],
      "metadata": {
        "id": "3zkZWKFJqx8W"
      },
      "execution_count": 19,
      "outputs": []
    },
    {
      "cell_type": "code",
      "source": [
        "# Decision Tree\n",
        "clf_model = DecisionTreeClassifier(criterion=\"gini\", random_state=42,\n",
        "max_depth=3, min_samples_leaf=5)\n",
        "clf_model.fit(x_train,y_train)\n",
        "y_pred_DT = clf_model.predict(x_test)\n",
        "\n",
        "cm = confusion_matrix(y_test, y_pred_DT)\n",
        "print(cm)\n",
        "print (\"Accuracy Decision Tree: \", accuracy_score(y_test, y_pred_DT))\n",
        "\n",
        "aces_DT = metrics.accuracy_score(y_test, y_pred_DT)\n",
        "precision_DT = metrics.precision_score(y_test, y_pred_DT, average='macro')\n",
        "recall_DT = metrics.recall_score(y_test, y_pred_DT, average='macro')\n",
        "f1_DT = metrics.f1_score(y_test, y_pred_DT, average='macro')"
      ],
      "metadata": {
        "colab": {
          "base_uri": "https://localhost:8080/"
        },
        "id": "lpnWtV8Xsgsv",
        "outputId": "678a412e-ae07-431a-a961-c768564f7b34"
      },
      "execution_count": 20,
      "outputs": [
        {
          "output_type": "stream",
          "name": "stdout",
          "text": [
            "[[62  5]\n",
            " [ 5 99]]\n",
            "Accuracy Decision Tree:  0.9415204678362573\n"
          ]
        }
      ]
    },
    {
      "cell_type": "code",
      "source": [
        "# Logistic Refression\n",
        "classifier = LogisticRegression(random_state = 0)\n",
        "classifier.fit(x_train, y_train)\n",
        "y_pred_LR = classifier.predict(x_test)\n",
        "\n",
        "cm = confusion_matrix(y_test, y_pred_LR)\n",
        "print(cm)\n",
        "print (\"Accuracy Logistic Refression: \", accuracy_score(y_test, y_pred_LR))\n",
        "\n",
        "aces_LR = metrics.accuracy_score(y_test, y_pred_LR)\n",
        "precision_LR = metrics.precision_score(y_test, y_pred_LR, average='macro')\n",
        "recall_LR = metrics.recall_score(y_test, y_pred_LR, average='macro')\n",
        "f1_LR = metrics.f1_score(y_test, y_pred_LR, average='macro')"
      ],
      "metadata": {
        "colab": {
          "base_uri": "https://localhost:8080/"
        },
        "id": "4VL-panzs-Mw",
        "outputId": "65eef75d-d37e-4b1d-e282-6ff9838b3ad1"
      },
      "execution_count": 21,
      "outputs": [
        {
          "output_type": "stream",
          "name": "stdout",
          "text": [
            "[[ 63   4]\n",
            " [  1 103]]\n",
            "Accuracy Logistic Refression:  0.9707602339181286\n"
          ]
        },
        {
          "output_type": "stream",
          "name": "stderr",
          "text": [
            "/usr/local/lib/python3.9/dist-packages/sklearn/linear_model/_logistic.py:458: ConvergenceWarning: lbfgs failed to converge (status=1):\n",
            "STOP: TOTAL NO. of ITERATIONS REACHED LIMIT.\n",
            "\n",
            "Increase the number of iterations (max_iter) or scale the data as shown in:\n",
            "    https://scikit-learn.org/stable/modules/preprocessing.html\n",
            "Please also refer to the documentation for alternative solver options:\n",
            "    https://scikit-learn.org/stable/modules/linear_model.html#logistic-regression\n",
            "  n_iter_i = _check_optimize_result(\n"
          ]
        }
      ]
    },
    {
      "cell_type": "code",
      "source": [
        "# kNN\n",
        "kNN = KNeighborsClassifier(n_neighbors = 5)\n",
        "kNN.fit(x_train,y_train)\n",
        "y_pred_kNN = kNN.predict(x_test)\n",
        "\n",
        "cm = confusion_matrix(y_test, y_pred_kNN)\n",
        "print(cm)\n",
        "print (\"Accuracy kNN: \", accuracy_score(y_test, y_pred_kNN))\n",
        "\n",
        "aces_kNN = metrics.accuracy_score(y_test, y_pred_kNN)\n",
        "precision_kNN = metrics.precision_score(y_test, y_pred_kNN, average='macro')\n",
        "recall_kNN = metrics.recall_score(y_test, y_pred_kNN, average='macro')\n",
        "f1_kNN = metrics.f1_score(y_test, y_pred_kNN, average='macro')"
      ],
      "metadata": {
        "colab": {
          "base_uri": "https://localhost:8080/"
        },
        "id": "1p-eDgY7tHvo",
        "outputId": "738fe7cb-ced9-406b-ba8f-f6763975d118"
      },
      "execution_count": 22,
      "outputs": [
        {
          "output_type": "stream",
          "name": "stdout",
          "text": [
            "[[ 63   4]\n",
            " [  3 101]]\n",
            "Accuracy kNN:  0.9590643274853801\n"
          ]
        }
      ]
    },
    {
      "cell_type": "code",
      "source": [
        "t = PrettyTable(['','Linear Kernel','Decision Tree','Logistic Refression','kNN'])\n",
        "t.add_row(['aces',round(aces_LK,3),round(aces_DT,3),round(aces_LR,3),round(aces_kNN,3)])\n",
        "t.add_row(['precision',round(precision_LK,3),round(precision_DT,3),round(precision_LR,3),round(precision_kNN,3)])\n",
        "t.add_row(['recall',round(recall_LK,3),round(recall_DT,3),round(recall_LR,3),round(recall_kNN,3)])\n",
        "t.add_row(['f1',round(f1_LK,3),round(f1_DT,3),round(f1_LR,3),round(f1_kNN,3)])\n",
        "t"
      ],
      "metadata": {
        "colab": {
          "base_uri": "https://localhost:8080/",
          "height": 120
        },
        "id": "9IdfTOt0te0w",
        "outputId": "062d76e6-c3c6-4f87-ce83-49fd0104f691"
      },
      "execution_count": 40,
      "outputs": [
        {
          "output_type": "execute_result",
          "data": {
            "text/plain": [
              "+-----------+---------------+---------------+---------------------+-------+\n",
              "|           | Linear Kernel | Decision Tree | Logistic Refression |  kNN  |\n",
              "+-----------+---------------+---------------+---------------------+-------+\n",
              "|    aces   |     0.982     |     0.942     |        0.971        | 0.959 |\n",
              "| precision |     0.986     |     0.939     |        0.973        | 0.958 |\n",
              "|   recall  |     0.978     |     0.939     |        0.965        | 0.956 |\n",
              "|     f1    |     0.981     |     0.939     |        0.969        | 0.957 |\n",
              "+-----------+---------------+---------------+---------------------+-------+"
            ],
            "text/html": [
              "<table>\n",
              "    <thead>\n",
              "        <tr>\n",
              "            <th></th>\n",
              "            <th>Linear Kernel</th>\n",
              "            <th>Decision Tree</th>\n",
              "            <th>Logistic Refression</th>\n",
              "            <th>kNN</th>\n",
              "        </tr>\n",
              "    </thead>\n",
              "    <tbody>\n",
              "        <tr>\n",
              "            <td>aces</td>\n",
              "            <td>0.982</td>\n",
              "            <td>0.942</td>\n",
              "            <td>0.971</td>\n",
              "            <td>0.959</td>\n",
              "        </tr>\n",
              "        <tr>\n",
              "            <td>precision</td>\n",
              "            <td>0.986</td>\n",
              "            <td>0.939</td>\n",
              "            <td>0.973</td>\n",
              "            <td>0.958</td>\n",
              "        </tr>\n",
              "        <tr>\n",
              "            <td>recall</td>\n",
              "            <td>0.978</td>\n",
              "            <td>0.939</td>\n",
              "            <td>0.965</td>\n",
              "            <td>0.956</td>\n",
              "        </tr>\n",
              "        <tr>\n",
              "            <td>f1</td>\n",
              "            <td>0.981</td>\n",
              "            <td>0.939</td>\n",
              "            <td>0.969</td>\n",
              "            <td>0.957</td>\n",
              "        </tr>\n",
              "    </tbody>\n",
              "</table>"
            ]
          },
          "metadata": {},
          "execution_count": 40
        }
      ]
    },
    {
      "cell_type": "markdown",
      "source": [
        "#Task 2. \n",
        "\n",
        "*   1.1.\tPerform SVM algorithm to **Iris dataset** using **linear kernel**.\n",
        "*   1.2.\tCompare the obtained results in 1.1 with SVM using other kernels (**Polynomial Kernel, Gaussian Kernel, Sigmoid Kernel, Radial Basis Function Kernel**). Some metrics could be used: accuracy, precision, recall, f1 measures\n",
        "\n",
        "\n",
        "\n"
      ],
      "metadata": {
        "id": "S43IoUT-0OQq"
      }
    },
    {
      "cell_type": "markdown",
      "source": [
        "# **2.1**"
      ],
      "metadata": {
        "id": "cXJYxCEZ6zbm"
      }
    },
    {
      "cell_type": "code",
      "source": [
        "# code\n",
        "data_iris = datasets.load_iris()\n",
        "x2 = data_iris['data']\n",
        "y2 = data_iris['target']\n",
        "print(x2)\n",
        "print(y2)"
      ],
      "metadata": {
        "id": "_xhPpF5b033h"
      },
      "execution_count": null,
      "outputs": []
    },
    {
      "cell_type": "code",
      "source": [
        "x2_train, x2_test, y2_train, y2_test = train_test_split(x2, y2, test_size = 0.3, train_size= 0.7,random_state = None,shuffle=True, stratify=None)\n",
        "\n",
        "#Train the model using the training sets\n",
        "clf.fit(x2_train, y2_train)\n",
        "#Predict the response for test dataset\n",
        "y2_pred_LK = clf.predict(x2_test)\n",
        "\n",
        "cm = confusion_matrix(y2_test, y2_pred_LK)\n",
        "print(cm)\n",
        "print (\"Accuracy Linear Kernel: \", accuracy_score(y2_test, y2_pred_LK))"
      ],
      "metadata": {
        "colab": {
          "base_uri": "https://localhost:8080/"
        },
        "id": "E6rufUlxw9Cx",
        "outputId": "40c2f69e-133b-4726-a25d-f65df76d9367"
      },
      "execution_count": 11,
      "outputs": [
        {
          "output_type": "stream",
          "name": "stdout",
          "text": [
            "[[14  0  0]\n",
            " [ 0 10  4]\n",
            " [ 0  1 16]]\n",
            "Accuracy Linear Kernel:  0.8888888888888888\n"
          ]
        }
      ]
    },
    {
      "cell_type": "code",
      "source": [
        "aces_LK2 = metrics.accuracy_score(y2_test, y2_pred_LK)\n",
        "precision_LK2 = metrics.precision_score(y2_test, y2_pred_LK, average='macro')\n",
        "recall_LK2 = metrics.recall_score(y2_test, y2_pred_LK, average='macro')\n",
        "f1_LK2 = metrics.f1_score(y2_test, y2_pred_LK, average='macro')"
      ],
      "metadata": {
        "id": "dHK0_-QuyA0Y"
      },
      "execution_count": 31,
      "outputs": []
    },
    {
      "cell_type": "markdown",
      "source": [
        "# **2.2**"
      ],
      "metadata": {
        "id": "Oh9m_IG10siy"
      }
    },
    {
      "cell_type": "code",
      "source": [
        "# Polynomial Kernel\n",
        "\n",
        "clf_poly = svm.SVC(kernel='poly', degree=5)\n",
        "#Train the model using the training sets\n",
        "clf_poly.fit(x2_train, y2_train)\n",
        "#Predict the response for test dataset\n",
        "y2_pred_poly = clf_poly.predict(x2_test)\n",
        "\n",
        "aces_poly = metrics.accuracy_score(y2_test, y2_pred_poly)\n",
        "precision_poly = metrics.precision_score(y2_test, y2_pred_poly, average='macro')\n",
        "recall_poly = metrics.recall_score(y2_test, y2_pred_poly, average='macro')\n",
        "f1_poly = metrics.f1_score(y2_test, y2_pred_poly, average='macro')"
      ],
      "metadata": {
        "id": "NYidojbw0vYJ"
      },
      "execution_count": 36,
      "outputs": []
    },
    {
      "cell_type": "code",
      "source": [
        "# Radial Basis Function Kernel:\n",
        "\n",
        "clf_rbf = svm.SVC(kernel='rbf', degree=5)\n",
        "#Train the model using the training sets\n",
        "clf_rbf.fit(x2_train, y2_train)\n",
        "#Predict the response for test dataset\n",
        "y2_pred_rbf = clf_rbf.predict(x2_test)\n",
        "\n",
        "aces_rbf = metrics.accuracy_score(y2_test, y2_pred_rbf)\n",
        "precision_rbf = metrics.precision_score(y2_test, y2_pred_rbf, average='macro')\n",
        "recall_rbf = metrics.recall_score(y2_test, y2_pred_rbf, average='macro')\n",
        "f1_rbf = metrics.f1_score(y2_test, y2_pred_rbf, average='macro')"
      ],
      "metadata": {
        "id": "Fomrwh8f7dZq"
      },
      "execution_count": 32,
      "outputs": []
    },
    {
      "cell_type": "code",
      "source": [
        "# Sigmoid Kernel\n",
        "clf_sigmoid = svm.SVC(kernel='sigmoid', degree=5)\n",
        "#Train the model using the training sets\n",
        "clf_sigmoid.fit(x2_train, y2_train)\n",
        "#Predict the response for test dataset\n",
        "y2_pred_sigmoid = clf_sigmoid.predict(x2_test)\n",
        "\n",
        "aces_sigmoid = metrics.accuracy_score(y2_test, y2_pred_sigmoid)\n",
        "precision_sigmoid = metrics.precision_score(y2_test, y2_pred_sigmoid, average='macro')\n",
        "recall_sigmoid = metrics.recall_score(y2_test, y2_pred_sigmoid, average='macro')\n",
        "f1_sigmoid = metrics.f1_score(y2_test, y2_pred_sigmoid, average='macro')"
      ],
      "metadata": {
        "colab": {
          "base_uri": "https://localhost:8080/"
        },
        "id": "9tkJ7mXH9kJp",
        "outputId": "f149c817-89d1-4d03-a74a-194b91024252"
      },
      "execution_count": 33,
      "outputs": [
        {
          "output_type": "stream",
          "name": "stderr",
          "text": [
            "/usr/local/lib/python3.9/dist-packages/sklearn/metrics/_classification.py:1344: UndefinedMetricWarning: Precision is ill-defined and being set to 0.0 in labels with no predicted samples. Use `zero_division` parameter to control this behavior.\n",
            "  _warn_prf(average, modifier, msg_start, len(result))\n"
          ]
        }
      ]
    },
    {
      "cell_type": "code",
      "source": [
        "t = PrettyTable(['','Linear Kernel','Polynomial Kernel','Radial Basis Function Kernel','Sigmoid Kernel'])\n",
        "t.add_row(['aces',round(aces_LK2,3),round(aces_poly,3),round(aces_rbf,3),round(aces_sigmoid,3)])\n",
        "t.add_row(['precision',round(precision_LK2,3),round(precision_poly,3),round(precision_rbf,3),round(precision_sigmoid,3)])\n",
        "t.add_row(['recall',round(recall_LK2,3),round(recall_poly,3),round(recall_rbf,3),round(recall_sigmoid,3)])\n",
        "t.add_row(['f1',round(f1_LK2,3),round(f1_poly,3),round(f1_rbf,3),round(f1_sigmoid,3)])\n",
        "t"
      ],
      "metadata": {
        "colab": {
          "base_uri": "https://localhost:8080/",
          "height": 120
        },
        "id": "kjIV4Pyj4o9r",
        "outputId": "2348299e-1238-48b4-e193-cbe35fb3fb58"
      },
      "execution_count": 38,
      "outputs": [
        {
          "output_type": "execute_result",
          "data": {
            "text/plain": [
              "+-----------+---------------+-------------------+------------------------------+----------------+\n",
              "|           | Linear Kernel | Polynomial Kernel | Radial Basis Function Kernel | Sigmoid Kernel |\n",
              "+-----------+---------------+-------------------+------------------------------+----------------+\n",
              "|    aces   |     0.889     |       0.889       |            0.933             |     0.267      |\n",
              "| precision |     0.903     |       0.903       |            0.937             |     0.183      |\n",
              "|   recall  |     0.885     |       0.885       |            0.933             |     0.286      |\n",
              "|     f1    |     0.888     |       0.888       |            0.934             |     0.192      |\n",
              "+-----------+---------------+-------------------+------------------------------+----------------+"
            ],
            "text/html": [
              "<table>\n",
              "    <thead>\n",
              "        <tr>\n",
              "            <th></th>\n",
              "            <th>Linear Kernel</th>\n",
              "            <th>Polynomial Kernel</th>\n",
              "            <th>Radial Basis Function Kernel</th>\n",
              "            <th>Sigmoid Kernel</th>\n",
              "        </tr>\n",
              "    </thead>\n",
              "    <tbody>\n",
              "        <tr>\n",
              "            <td>aces</td>\n",
              "            <td>0.889</td>\n",
              "            <td>0.889</td>\n",
              "            <td>0.933</td>\n",
              "            <td>0.267</td>\n",
              "        </tr>\n",
              "        <tr>\n",
              "            <td>precision</td>\n",
              "            <td>0.903</td>\n",
              "            <td>0.903</td>\n",
              "            <td>0.937</td>\n",
              "            <td>0.183</td>\n",
              "        </tr>\n",
              "        <tr>\n",
              "            <td>recall</td>\n",
              "            <td>0.885</td>\n",
              "            <td>0.885</td>\n",
              "            <td>0.933</td>\n",
              "            <td>0.286</td>\n",
              "        </tr>\n",
              "        <tr>\n",
              "            <td>f1</td>\n",
              "            <td>0.888</td>\n",
              "            <td>0.888</td>\n",
              "            <td>0.934</td>\n",
              "            <td>0.192</td>\n",
              "        </tr>\n",
              "    </tbody>\n",
              "</table>"
            ]
          },
          "metadata": {},
          "execution_count": 38
        }
      ]
    },
    {
      "cell_type": "markdown",
      "source": [
        "#Task 3. \n",
        "Compare the performance of selected classification algorithms (Decision Tree, kNN, Logistic Regression) and SVM (using different kernels) with mnist dataset based on accuracy, precision, recall, f1 measures.\n"
      ],
      "metadata": {
        "id": "b52OPWPD2afi"
      }
    },
    {
      "cell_type": "code",
      "source": [
        "mnist = datasets.load_digits()\n",
        "x3 = mnist['data']\n",
        "y3 = mnist['target']\n",
        "\n",
        "x3_train, x3_test, y3_train, y3_test = train_test_split(x3, y3, test_size = 0.3, train_size= 0.7,random_state = None,shuffle=True, stratify=None)\n",
        "\n",
        "# Polynomial Kernel\n",
        "clf_poly = svm.SVC(kernel='poly', degree=5)\n",
        "#Train the model using the training sets\n",
        "clf_poly.fit(x3_train, y3_train)\n",
        "#Predict the response for test dataset\n",
        "y3_pred_poly = clf_poly.predict(x3_test)\n",
        "\n",
        "aces_poly = metrics.accuracy_score(y3_test, y3_pred_poly)\n",
        "precision_poly = metrics.precision_score(y3_test, y3_pred_poly, average='macro')\n",
        "recall_poly = metrics.recall_score(y3_test, y3_pred_poly, average='macro')\n",
        "f1_poly = metrics.f1_score(y3_test, y3_pred_poly, average='macro')\n",
        "\n",
        "\n",
        "\n",
        "# Radial Basis Function Kernel:\n",
        "clf_rbf = svm.SVC(kernel='rbf', degree=5)\n",
        "#Train the model using the training sets\n",
        "clf_rbf.fit(x3_train, y3_train)\n",
        "#Predict the response for test dataset\n",
        "y3_pred_rbf = clf_rbf.predict(x3_test)\n",
        "\n",
        "aces_rbf = metrics.accuracy_score(y3_test, y3_pred_rbf)\n",
        "precision_rbf = metrics.precision_score(y3_test, y3_pred_rbf, average='macro')\n",
        "recall_rbf = metrics.recall_score(y3_test, y3_pred_rbf, average='macro')\n",
        "f1_rbf = metrics.f1_score(y3_test, y3_pred_rbf, average='macro')\n",
        "\n",
        "\n",
        "\n",
        "# Sigmoid Kernel\n",
        "clf_sigmoid = svm.SVC(kernel='sigmoid', degree=5)\n",
        "#Train the model using the training sets\n",
        "clf_sigmoid.fit(x3_train, y3_train)\n",
        "#Predict the response for test dataset\n",
        "y3_pred_sigmoid = clf_sigmoid.predict(x3_test)\n",
        "\n",
        "aces_sigmoid = metrics.accuracy_score(y3_test, y3_pred_sigmoid)\n",
        "precision_sigmoid = metrics.precision_score(y3_test, y3_pred_sigmoid, average='macro')\n",
        "recall_sigmoid = metrics.recall_score(y3_test, y3_pred_sigmoid, average='macro')\n",
        "f1_sigmoid = metrics.f1_score(y3_test, y3_pred_sigmoid, average='macro')"
      ],
      "metadata": {
        "id": "WvbE_Zy86JFD"
      },
      "execution_count": 42,
      "outputs": []
    },
    {
      "cell_type": "code",
      "source": [
        "# Decision Tree\n",
        "clf_model = DecisionTreeClassifier(criterion=\"gini\", random_state=42,\n",
        "max_depth=3, min_samples_leaf=5)\n",
        "clf_model.fit(x3_train,y3_train)\n",
        "y3_pred_DT = clf_model.predict(x3_test)\n",
        "\n",
        "cm = confusion_matrix(y3_test, y3_pred_DT)\n",
        "print(cm)\n",
        "print (\"Accuracy Decision Tree: \", accuracy_score(y3_test, y3_pred_DT))\n",
        "\n",
        "aces_DT3 = metrics.accuracy_score(y3_test, y3_pred_DT)\n",
        "precision_DT3 = metrics.precision_score(y3_test, y3_pred_DT, average='macro')\n",
        "recall_DT3 = metrics.recall_score(y3_test, y3_pred_DT, average='macro')\n",
        "f1_DT3 = metrics.f1_score(y3_test, y3_pred_DT, average='macro')\n",
        "\n",
        "\n",
        "# Logistic Refression\n",
        "classifier = LogisticRegression(random_state = 0)\n",
        "classifier.fit(x3_train, y3_train)\n",
        "y3_pred_LR = classifier.predict(x3_test)\n",
        "\n",
        "cm = confusion_matrix(y3_test, y3_pred_LR)\n",
        "print(cm)\n",
        "print (\"Accuracy Logistic Refression: \", accuracy_score(y3_test, y3_pred_LR))\n",
        "\n",
        "aces_LR3 = metrics.accuracy_score(y3_test, y3_pred_LR)\n",
        "precision_LR3 = metrics.precision_score(y3_test, y3_pred_LR, average='macro')\n",
        "recall_LR3 = metrics.recall_score(y3_test, y3_pred_LR, average='macro')\n",
        "f1_LR3 = metrics.f1_score(y3_test, y3_pred_LR, average='macro')\n",
        "\n",
        "\n",
        "\n",
        "# kNN\n",
        "kNN = KNeighborsClassifier(n_neighbors = 5)\n",
        "kNN.fit(x3_train,y3_train)\n",
        "y3_pred_kNN = kNN.predict(x3_test)\n",
        "\n",
        "cm = confusion_matrix(y3_test, y3_pred_kNN)\n",
        "print(cm)\n",
        "print (\"Accuracy kNN: \", accuracy_score(y3_test, y3_pred_kNN))\n",
        "\n",
        "aces_kNN3 = metrics.accuracy_score(y3_test, y3_pred_kNN)\n",
        "precision_kNN3 = metrics.precision_score(y3_test, y3_pred_kNN, average='macro')\n",
        "recall_kNN3 = metrics.recall_score(y3_test, y3_pred_kNN, average='macro')\n",
        "f1_kNN3 = metrics.f1_score(y3_test, y3_pred_kNN, average='macro')"
      ],
      "metadata": {
        "id": "xMyUWh5t7JB0"
      },
      "execution_count": null,
      "outputs": []
    },
    {
      "cell_type": "code",
      "source": [
        "t = PrettyTable(['','aces','precision','recall','f1'])\n",
        "t.add_row(['Polynomial Kernel',round(aces_poly,4),round(precision_poly,4),round(recall_poly,4),round(f1_poly,4)])\n",
        "t.add_row(['Radial Basis Function Kernel',round(aces_rbf,4),round(precision_rbf,4),round(recall_rbf,4),round(f1_rbf,4)])\n",
        "t.add_row(['Sigmoid Kernel',round(aces_sigmoid,4),round(precision_sigmoid,4),round(recall_sigmoid,4),round(f1_sigmoid,4)])\n",
        "t.add_row(['Decision Tree',round(aces_DT3,3),round(precision_DT3,3),round(recall_DT3,3),round(f1_DT3,3)])\n",
        "t.add_row(['Logistic Refression',round(aces_LR3,3),round(precision_LR3,3),round(recall_LR3,3),round(f1_LR3,3)])\n",
        "t.add_row(['kNN',round(aces_kNN3,3),round(precision_kNN3,3),round(recall_kNN3,3),round(f1_kNN3,3)])\n",
        "t"
      ],
      "metadata": {
        "colab": {
          "base_uri": "https://localhost:8080/",
          "height": 161
        },
        "id": "6PpzXCAj9wGz",
        "outputId": "259776f9-44a5-49ed-d806-717921bc83ca"
      },
      "execution_count": 45,
      "outputs": [
        {
          "output_type": "execute_result",
          "data": {
            "text/plain": [
              "+------------------------------+--------+-----------+--------+--------+\n",
              "|                              |  aces  | precision | recall |   f1   |\n",
              "+------------------------------+--------+-----------+--------+--------+\n",
              "|      Polynomial Kernel       | 0.987  |   0.9874  | 0.9884 | 0.9878 |\n",
              "| Radial Basis Function Kernel | 0.9889 |   0.9889  | 0.9907 | 0.9896 |\n",
              "|        Sigmoid Kernel        | 0.8944 |   0.9026  | 0.9016 | 0.8984 |\n",
              "|        Decision Tree         | 0.452  |   0.431   | 0.478  |  0.39  |\n",
              "|     Logistic Refression      |  0.97  |   0.972   | 0.972  | 0.971  |\n",
              "|             kNN              |  0.98  |   0.979   | 0.982  |  0.98  |\n",
              "+------------------------------+--------+-----------+--------+--------+"
            ],
            "text/html": [
              "<table>\n",
              "    <thead>\n",
              "        <tr>\n",
              "            <th></th>\n",
              "            <th>aces</th>\n",
              "            <th>precision</th>\n",
              "            <th>recall</th>\n",
              "            <th>f1</th>\n",
              "        </tr>\n",
              "    </thead>\n",
              "    <tbody>\n",
              "        <tr>\n",
              "            <td>Polynomial Kernel</td>\n",
              "            <td>0.987</td>\n",
              "            <td>0.9874</td>\n",
              "            <td>0.9884</td>\n",
              "            <td>0.9878</td>\n",
              "        </tr>\n",
              "        <tr>\n",
              "            <td>Radial Basis Function Kernel</td>\n",
              "            <td>0.9889</td>\n",
              "            <td>0.9889</td>\n",
              "            <td>0.9907</td>\n",
              "            <td>0.9896</td>\n",
              "        </tr>\n",
              "        <tr>\n",
              "            <td>Sigmoid Kernel</td>\n",
              "            <td>0.8944</td>\n",
              "            <td>0.9026</td>\n",
              "            <td>0.9016</td>\n",
              "            <td>0.8984</td>\n",
              "        </tr>\n",
              "        <tr>\n",
              "            <td>Decision Tree</td>\n",
              "            <td>0.452</td>\n",
              "            <td>0.431</td>\n",
              "            <td>0.478</td>\n",
              "            <td>0.39</td>\n",
              "        </tr>\n",
              "        <tr>\n",
              "            <td>Logistic Refression</td>\n",
              "            <td>0.97</td>\n",
              "            <td>0.972</td>\n",
              "            <td>0.972</td>\n",
              "            <td>0.971</td>\n",
              "        </tr>\n",
              "        <tr>\n",
              "            <td>kNN</td>\n",
              "            <td>0.98</td>\n",
              "            <td>0.979</td>\n",
              "            <td>0.982</td>\n",
              "            <td>0.98</td>\n",
              "        </tr>\n",
              "    </tbody>\n",
              "</table>"
            ]
          },
          "metadata": {},
          "execution_count": 45
        }
      ]
    },
    {
      "cell_type": "markdown",
      "source": [
        "#Task 4. \n",
        "Compare the performance of selected classification algorithms (Decision Tree, kNN, Logistic Regression) and SVM (using different kernels) with **credit card dataset** based on accuracy, precision, recall, f1 measures.\n",
        "\n",
        "*   Give some comments on the obtained results\n",
        "*   Identify issues with dataset, and propose the solutions to these issues\n",
        "\n"
      ],
      "metadata": {
        "id": "Z5pp7_h-aP2u"
      }
    },
    {
      "cell_type": "code",
      "source": [
        "# code\n",
        "df = pd.read_csv('creditcard.csv')\n",
        "\n",
        "x4 = df.iloc[:,:-1]\n",
        "y4 = df[['Class']]\n",
        "\n",
        "x4_train, x4_test, y4_train, y4_test = train_test_split(x4, y4, test_size = 0.3, train_size= 0.7,random_state = None,shuffle=True, stratify=None)\n",
        "\n",
        "# Polynomial Kernel\n",
        "clf_poly4 = svm.SVC(kernel='poly', degree=5)\n",
        "#Train the model using the training sets\n",
        "clf_poly4.fit(x4_train, y4_train)\n",
        "#Predict the response for test dataset\n",
        "y4_pred_poly4 = clf_poly4.predict(x4_test)\n",
        "\n",
        "aces_poly4 = metrics.accuracy_score(y4_test, y4_pred_poly4)\n",
        "precision_poly4 = metrics.precision_score(y4_test, y4_pred_poly4, average='macro')\n",
        "recall_poly4 = metrics.recall_score(y4_test, y4_pred_poly4, average='macro')\n",
        "f1_poly4 = metrics.f1_score(y4_test, y4_pred_poly4, average='macro')\n",
        "\n",
        "\n",
        "\n",
        "# Radial Basis Function Kernel:\n",
        "clf_rbf4 = svm.SVC(kernel='rbf', degree=5)\n",
        "#Train the model using the training sets\n",
        "clf_rbf4.fit(x4_train, y4_train)\n",
        "#Predict the response for test dataset\n",
        "y4_pred_rbf4 = clf_rbf4.predict(x4_test)\n",
        "\n",
        "aces_rbf4 = metrics.accuracy_score(y4_test, y4_pred_rbf4)\n",
        "precision_rbf4 = metrics.precision_score(y4_test, y4_pred_rbf4, average='macro')\n",
        "recall_rbf4 = metrics.recall_score(y4_test, y4_pred_rbf4, average='macro')\n",
        "f1_rbf4 = metrics.f1_score(y4_test, y4_pred_rbf4, average='macro')\n",
        "\n",
        "\n",
        "\n",
        "# Sigmoid Kernel\n",
        "clf_sigmoid4 = svm.SVC(kernel='sigmoid', degree=5)\n",
        "#Train the model using the training sets\n",
        "clf_sigmoid4.fit(x4_train, y4_train)\n",
        "#Predict the response for test dataset\n",
        "y4_pred_sigmoid4 = clf_sigmoid4.predict(x4_test)\n",
        "\n",
        "aces_sigmoid4 = metrics.accuracy_score(y4_test, y4_pred_sigmoid4)\n",
        "precision_sigmoid4 = metrics.precision_score(y4_test, y4_pred_sigmoid4, average='macro')\n",
        "recall_sigmoid4 = metrics.recall_score(y4_test, y4_pred_sigmoid4, average='macro')\n",
        "f1_sigmoid4 = metrics.f1_score(y4_test, y4_pred_sigmoid4, average='macro')"
      ],
      "metadata": {
        "id": "Rw_-8FIf2KxW"
      },
      "execution_count": null,
      "outputs": []
    },
    {
      "cell_type": "code",
      "source": [
        "# Decision Tree\n",
        "clf_model = DecisionTreeClassifier(criterion=\"gini\", random_state=42,\n",
        "max_depth=3, min_samples_leaf=5)\n",
        "clf_model.fit(x4_train,y4_train)\n",
        "\n",
        "y4_pred_DT4 = clf_model.predict(x4_test)\n",
        "\n",
        "aces_DT4 = metrics.accuracy_score(y4_test, y4_pred_DT4)\n",
        "precision_DT4 = metrics.precision_score(y4_test, y4_pred_DT4, average='macro')\n",
        "recall_DT4 = metrics.recall_score(y4_test, y4_pred_DT4, average='macro')\n",
        "f1_DT4 = metrics.f1_score(y4_test, y4_pred_DT4, average='macro')\n",
        "\n",
        "\n",
        "\n",
        "# Logistic Refression\n",
        "classifier = LogisticRegression(random_state = 0)\n",
        "classifier.fit(x4_train, y4_train)\n",
        "y4_pred_LR4 = classifier.predict(x4_test)\n",
        "\n",
        "aces_LR4 = metrics.accuracy_score(y4_test, y4_pred_LR4)\n",
        "precision_LR4 = metrics.precision_score(y4_test, y4_pred_LR4, average='macro')\n",
        "recall_LR4 = metrics.recall_score(y4_test, y4_pred_LR4, average='macro')\n",
        "f1_LR4 = metrics.f1_score(y4_test, y4_pred_LR4, average='macro')\n",
        "\n",
        "\n",
        "\n",
        "# kNN\n",
        "kNN = KNeighborsClassifier(n_neighbors = 5)\n",
        "kNN.fit(x4_train,y4_train)\n",
        "y4_pred_kNN4 = kNN.predict(x4_test)\n",
        "\n",
        "aces_kNN4 = metrics.accuracy_score(y4_test, y4_pred_kNN4)\n",
        "precision_kNN4 = metrics.precision_score(y4_test, y4_pred_kNN4, average='macro')\n",
        "recall_kNN4 = metrics.recall_score(y4_test, y4_pred_kNN4, average='macro')\n",
        "f1_kNN4 = metrics.f1_score(y4_test, y4_pred_kNN4, average='macro')"
      ],
      "metadata": {
        "id": "jn6E4_qbNA6x"
      },
      "execution_count": null,
      "outputs": []
    },
    {
      "cell_type": "code",
      "source": [
        "t = PrettyTable(['','aces','precision','recall','f1'])\n",
        "t.add_row(['Polynomial Kernel',round(aces_poly4,4),round(precision_poly4,4),round(recall_poly4,4),round(f1_poly4,4)])\n",
        "t.add_row(['Radial Basis Function Kernel',round(aces_rbf4,4),round(precision_rbf4,4),round(recall_rbf4,4),round(f1_rbf4,4)])\n",
        "t.add_row(['Sigmoid Kernel',round(aces_sigmoid4,4),round(precision_sigmoid4,4),round(recall_sigmoid4,4),round(f1_sigmoid4,4)])\n",
        "t.add_row(['Decision Tree',round(aces_DT4,3),round(precision_DT4,3),round(recall_DT4,3),round(f1_DT4,3)])\n",
        "t.add_row(['Logistic Refression',round(aces_LR4,3),round(precision_LR4,3),round(recall_LR4,3),round(f1_LR4,3)])\n",
        "t.add_row(['kNN',round(aces_kNN4,3),round(precision_kNN4,3),round(recall_kNN4,3),round(f1_kNN4,3)])\n",
        "t"
      ],
      "metadata": {
        "colab": {
          "base_uri": "https://localhost:8080/",
          "height": 161
        },
        "id": "ahVr5Yd_PIy4",
        "outputId": "512bf683-5182-4fe5-b385-c3a6175d46f8"
      },
      "execution_count": 55,
      "outputs": [
        {
          "output_type": "execute_result",
          "data": {
            "text/plain": [
              "+------------------------------+--------+-----------+--------+--------+\n",
              "|                              |  aces  | precision | recall |   f1   |\n",
              "+------------------------------+--------+-----------+--------+--------+\n",
              "|      Polynomial Kernel       | 0.9983 |   0.4992  |  0.5   | 0.4996 |\n",
              "| Radial Basis Function Kernel | 0.9983 |   0.4992  |  0.5   | 0.4996 |\n",
              "|        Sigmoid Kernel        | 0.9983 |   0.4992  |  0.5   | 0.4996 |\n",
              "|        Decision Tree         | 0.999  |   0.914   | 0.873  | 0.892  |\n",
              "|     Logistic Refression      | 0.999  |   0.821   | 0.859  | 0.839  |\n",
              "|             kNN              | 0.998  |   0.999   | 0.525  | 0.547  |\n",
              "+------------------------------+--------+-----------+--------+--------+"
            ],
            "text/html": [
              "<table>\n",
              "    <thead>\n",
              "        <tr>\n",
              "            <th></th>\n",
              "            <th>aces</th>\n",
              "            <th>precision</th>\n",
              "            <th>recall</th>\n",
              "            <th>f1</th>\n",
              "        </tr>\n",
              "    </thead>\n",
              "    <tbody>\n",
              "        <tr>\n",
              "            <td>Polynomial Kernel</td>\n",
              "            <td>0.9983</td>\n",
              "            <td>0.4992</td>\n",
              "            <td>0.5</td>\n",
              "            <td>0.4996</td>\n",
              "        </tr>\n",
              "        <tr>\n",
              "            <td>Radial Basis Function Kernel</td>\n",
              "            <td>0.9983</td>\n",
              "            <td>0.4992</td>\n",
              "            <td>0.5</td>\n",
              "            <td>0.4996</td>\n",
              "        </tr>\n",
              "        <tr>\n",
              "            <td>Sigmoid Kernel</td>\n",
              "            <td>0.9983</td>\n",
              "            <td>0.4992</td>\n",
              "            <td>0.5</td>\n",
              "            <td>0.4996</td>\n",
              "        </tr>\n",
              "        <tr>\n",
              "            <td>Decision Tree</td>\n",
              "            <td>0.999</td>\n",
              "            <td>0.914</td>\n",
              "            <td>0.873</td>\n",
              "            <td>0.892</td>\n",
              "        </tr>\n",
              "        <tr>\n",
              "            <td>Logistic Refression</td>\n",
              "            <td>0.999</td>\n",
              "            <td>0.821</td>\n",
              "            <td>0.859</td>\n",
              "            <td>0.839</td>\n",
              "        </tr>\n",
              "        <tr>\n",
              "            <td>kNN</td>\n",
              "            <td>0.998</td>\n",
              "            <td>0.999</td>\n",
              "            <td>0.525</td>\n",
              "            <td>0.547</td>\n",
              "        </tr>\n",
              "    </tbody>\n",
              "</table>"
            ]
          },
          "metadata": {},
          "execution_count": 55
        }
      ]
    },
    {
      "cell_type": "markdown",
      "source": [
        "#Finally,\n",
        "Save a copy in your Github. Remember renaming the notebook."
      ],
      "metadata": {
        "id": "Ok7RGkea_b7n"
      }
    }
  ]
}