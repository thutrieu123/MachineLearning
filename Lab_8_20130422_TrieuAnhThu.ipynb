{
  "cells": [
    {
      "cell_type": "markdown",
      "metadata": {
        "id": "view-in-github",
        "colab_type": "text"
      },
      "source": [
        "<a href=\"https://colab.research.google.com/github/thutrieu123/MachineLearning/blob/main/Lab_8_20130422_TrieuAnhThu.ipynb\" target=\"_parent\"><img src=\"https://colab.research.google.com/assets/colab-badge.svg\" alt=\"Open In Colab\"/></a>"
      ]
    },
    {
      "cell_type": "markdown",
      "metadata": {
        "id": "LMzehe0sy5wr"
      },
      "source": [
        "# This lab deals with **GridSearchCV** for tuning the hyper-parameters of an estimator and applying vectorization techniques to the **movie reviews dataset** for classification task. \n",
        "\n",
        "*   **Deadline: 23:59, 17/4/2023**\n",
        "\n"
      ]
    },
    {
      "cell_type": "markdown",
      "metadata": {
        "id": "H4nJmxp9zGX4"
      },
      "source": [
        "# Import libraries"
      ]
    },
    {
      "cell_type": "code",
      "execution_count": 29,
      "metadata": {
        "id": "DoVWQ8AEyc-C"
      },
      "outputs": [],
      "source": [
        "# code\n",
        "from sklearn import datasets\n",
        "from sklearn import svm\n",
        "from sklearn.svm import SVC\n",
        "import pandas as pd\n",
        "import numpy as np\n",
        "from sklearn.model_selection import GridSearchCV\n",
        "from sklearn.model_selection import train_test_split\n",
        "import sklearn.metrics as metrics\n",
        "from sklearn.neighbors import KNeighborsClassifier\n",
        "from sklearn.ensemble import RandomForestClassifier\n",
        "from prettytable import PrettyTable\n",
        "from sklearn.linear_model import LogisticRegression"
      ]
    },
    {
      "cell_type": "markdown",
      "metadata": {
        "id": "x_dG9SA5OhGT"
      },
      "source": [
        "#Task 1. With **iris** dataset\n",
        "*  1.1. Apply **GridSearchCV** for **SVM** to find the best hyperparameters using the following param_grid.\n",
        "\n",
        "```\n",
        "param_grid = {'C': [0.1, 1, 10, 100, 1000],\n",
        "              'gamma': [1, 0.1, 0.01, 0.001, 0.0001],\n",
        "              'kernel': ['rbf','linear']}\n",
        "```\n",
        "\n",
        "\n"
      ]
    },
    {
      "cell_type": "code",
      "execution_count": 12,
      "metadata": {
        "id": "62jExOZ952fF"
      },
      "outputs": [],
      "source": [
        "#code\n",
        "iris = datasets.load_iris(as_frame=True)\n",
        "X = iris['data']\n",
        "y = iris['target']"
      ]
    },
    {
      "cell_type": "code",
      "execution_count": 15,
      "metadata": {
        "id": "kLr02MDc6xVf"
      },
      "outputs": [],
      "source": [
        "param_grid = {'C': [0.1, 1, 10, 100, 1000],\n",
        "              'gamma': [1, 0.1, 0.01, 0.001, 0.0001],\n",
        "              'kernel': ['rbf','linear']}"
      ]
    },
    {
      "cell_type": "code",
      "execution_count": 16,
      "metadata": {
        "id": "MLbw3WVW83Kv"
      },
      "outputs": [],
      "source": [
        "svm = svm.SVC(kernel='linear', random_state=0)\n",
        "grid_svm = GridSearchCV(estimator = svm, param_grid = param_grid, scoring='accuracy', n_jobs = 4, cv=10, refit = True, return_train_score=True)\n",
        "\n",
        "X_train, X_test, y_train, y_test = train_test_split(X, y, test_size = 0.3, train_size= 0.7,random_state = 1)\n",
        "\n",
        "grid_svm.fit(X_train, y_train)\n",
        "y_predict = grid_svm.predict(X_test)\n",
        "\n",
        "aces_svm = metrics.accuracy_score(y_test, y_predict)\n",
        "precision_svm = metrics.precision_score(y_test, y_predict, average='macro')\n",
        "recall_svm = metrics.recall_score(y_test, y_predict, average='macro')\n",
        "f1_svm = metrics.f1_score(y_test, y_predict, average='macro')"
      ]
    },
    {
      "cell_type": "markdown",
      "metadata": {
        "id": "2g--8cng53sY"
      },
      "source": [
        "*  1.2. Apply **GridSearchCV** for **kNN** to find the best hyperparameters using the following param_grid.\n",
        "\n",
        "```\n",
        "grid_params = { 'n_neighbors' : [5,7,9,11,13,15],\n",
        "               'weights' : ['uniform','distance'],\n",
        "               'metric' : ['minkowski','euclidean','manhattan']}\n",
        "```\n",
        "where\n",
        "\n",
        "    *  **n_neighbors**: Decide the best k based on the values we have computed earlier.\n",
        "    *  **weights**: Check whether adding weights to the data points is beneficial to the model or not. 'uniform' assigns no weight, while 'distance' weighs points by the inverse of their distances meaning nearer points will have more weight than the farther points.\n",
        "    *  **metric**: The distance metric to be used will calculating the similarity.\n"
      ]
    },
    {
      "cell_type": "code",
      "execution_count": null,
      "metadata": {
        "id": "fX0_kItYPism"
      },
      "outputs": [],
      "source": [
        "#code\n",
        "grid_params = { 'n_neighbors' : [5,7,9,11,13,15],\n",
        "               'weights' : ['uniform','distance'],\n",
        "               'metric' : ['minkowski','euclidean','manhattan']}"
      ]
    },
    {
      "cell_type": "code",
      "execution_count": null,
      "metadata": {
        "id": "wmYiqa5qDSOG"
      },
      "outputs": [],
      "source": [
        "kNN = KNeighborsClassifier(n_neighbors = 10)\n",
        "grid_kNN = GridSearchCV(estimator = kNN, param_grid = grid_params, scoring='accuracy', n_jobs = 4, cv=10, refit = True, return_train_score=True)\n",
        "\n",
        "X_train, X_test, y_train, y_test = train_test_split(X, y, test_size = 0.3, train_size= 0.7,random_state = 1)\n",
        "\n",
        "grid_kNN.fit(X_train, y_train)\n",
        "y_predict = grid_kNN.predict(X_test)\n",
        "\n",
        "aces_kNN = metrics.accuracy_score(y_test, y_predict)\n",
        "precision_kNN = metrics.precision_score(y_test, y_predict, average='macro')\n",
        "recall_kNN = metrics.recall_score(y_test, y_predict, average='macro')\n",
        "f1_kNN = metrics.f1_score(y_test, y_predict, average='macro')"
      ]
    },
    {
      "cell_type": "markdown",
      "metadata": {
        "id": "3lQSOcjL_TIW"
      },
      "source": [
        "*  1.3. Apply **GridSearchCV** for **Random Forest** to find the best hyperparameters using the following param_grid.\n",
        "\n",
        "```\n",
        "param_grid = {\n",
        "    'n_estimators': [25, 50, 100, 150],\n",
        "    'max_features': ['sqrt', 'log2', None],\n",
        "    'max_depth': [3, 6, 9],\n",
        "    'max_leaf_nodes': [3, 6, 9],\n",
        "}\n",
        "```"
      ]
    },
    {
      "cell_type": "code",
      "execution_count": null,
      "metadata": {
        "id": "OlyF9WpN_01p"
      },
      "outputs": [],
      "source": [
        "#code\n",
        "param_grid = {\n",
        "    'n_estimators': [25, 50, 100, 150],\n",
        "    'max_features': ['sqrt', 'log2', None],\n",
        "    'max_depth': [3, 6, 9],\n",
        "    'max_leaf_nodes': [3, 6, 9],\n",
        "}"
      ]
    },
    {
      "cell_type": "code",
      "execution_count": null,
      "metadata": {
        "colab": {
          "background_save": true
        },
        "id": "tczMN6NometP"
      },
      "outputs": [],
      "source": [
        "rf=RandomForestClassifier(n_estimators=100)\n",
        "\n",
        "grid_rf = GridSearchCV(estimator = rf, param_grid = param_grid, scoring='accuracy', n_jobs = 4, cv=10, refit = True, return_train_score=True)\n",
        "\n",
        "X_train, X_test, y_train, y_test = train_test_split(X, y, test_size = 0.3, train_size= 0.7,random_state = 1)\n",
        "\n",
        "grid_rf.fit(X_train, y_train)\n",
        "y_predict = grid_rf.predict(X_test)\n",
        "\n",
        "aces_rf = metrics.accuracy_score(y_test, y_predict)\n",
        "precision_rf = metrics.precision_score(y_test, y_predict, average='macro')\n",
        "recall_rf = metrics.recall_score(y_test, y_predict, average='macro')\n",
        "f1_rf = metrics.f1_score(y_test, y_predict, average='macro')"
      ]
    },
    {
      "cell_type": "markdown",
      "metadata": {
        "id": "G3N7TD7s_3Kp"
      },
      "source": [
        "*   1.4 Compare the best obtained results from 1.1 to 1.3 (use PrettyTable to dispaly the results)"
      ]
    },
    {
      "cell_type": "code",
      "execution_count": 17,
      "metadata": {
        "colab": {
          "base_uri": "https://localhost:8080/"
        },
        "id": "ruOYHdn7oKq5",
        "outputId": "79281c88-a01e-44e2-dfd9-e4be41b4db25"
      },
      "outputs": [
        {
          "output_type": "stream",
          "name": "stdout",
          "text": [
            "+----------------+----------+-----------+--------+--------+\n",
            "|                | Accuracy | Precision | Recall |   F1   |\n",
            "+----------------+----------+-----------+--------+--------+\n",
            "|      SVM       |   1.0    |    1.0    |  1.0   |  1.0   |\n",
            "|      kNN       |  0.9556  |   0.9558  | 0.9558 | 0.9558 |\n",
            "| Random Forest  |  0.9556  |   0.9558  | 0.9558 | 0.9558 |\n",
            "+----------------+----------+-----------+--------+--------+\n"
          ]
        }
      ],
      "source": [
        "table = PrettyTable([\"\",\"Accuracy\", \"Precision\", \"Recall\", \"F1\"])\n",
        "table.add_row([\"SVM \",round(aces_svm,4),round(precision_svm,4),round(recall_svm,4),round(f1_svm,4)])\n",
        "table.add_row([\"kNN \",round(aces_kNN,4),round(precision_kNN,4),round(recall_kNN,4),round(f1_kNN,4)])\n",
        "table.add_row([\"Random Forest \",round(aces_rf,4),round(precision_rf,4),round(recall_rf,4),round(f1_rf,4)])\n",
        "\n",
        "print(table)"
      ]
    },
    {
      "cell_type": "markdown",
      "metadata": {
        "id": "kNv07ARGzOUm"
      },
      "source": [
        "#Task 2. \n",
        "For breast cancer dataset (https://tinyurl.com/3vme8hr3) which could be loaded from datasets in sklearn as follows:\n",
        "\n",
        "```\n",
        "#Import scikit-learn dataset library\n",
        "from sklearn import datasets\n",
        "\n",
        "#Load dataset\n",
        "cancer = datasets.load_breast_cancer()\n",
        "```\n",
        "\n",
        "*   Apply **GridSearchCV** to different classification algorithms such as **SVM, kNN, LogisticRegression, RandomForest**.\n",
        "*   Compare the results obtained by the best hyperparameters among classification algorithms."
      ]
    },
    {
      "cell_type": "code",
      "execution_count": 30,
      "metadata": {
        "id": "A9A-Xv-7pKqu"
      },
      "outputs": [],
      "source": [
        "cancer = datasets.load_breast_cancer(as_frame=True)\n",
        "x_task2 = cancer.data\n",
        "y_task2 = cancer.target\n",
        "\n",
        "X2_train, X2_test, Y2_train, Y2_test = train_test_split(x_task2,y_task2, test_size = 0.3, train_size=0.7,random_state=1)"
      ]
    },
    {
      "cell_type": "markdown",
      "metadata": {
        "id": "pnoVB8J4vV36"
      },
      "source": [
        "*   2.1. Apply **GridSearchCV** to **SVM** \n"
      ]
    },
    {
      "cell_type": "code",
      "execution_count": 31,
      "metadata": {
        "id": "-ZTSvsJdvYqI"
      },
      "outputs": [],
      "source": [
        "# code\n",
        "param_grid_svm = {'C': [0.1, 1, 10, 100, 1000], 'gamma': [1, 0.1, 0.01, 0.001, 0.0001],'kernel': ['rbf','linear']}"
      ]
    },
    {
      "cell_type": "code",
      "source": [
        "clf_cancer = svm.SVC(kernel='linear', random_state=0)\n",
        "\n",
        "grid_svm_cancer_class = GridSearchCV(estimator = clf_cancer,param_grid = param_grid_svm,scoring='accuracy',n_jobs = 4,cv =10,refit =True,return_train_score=True)\n",
        "\n",
        "grid_svm_cancer_class.fit(X2_train, Y2_train)\n",
        "\n",
        "y_pred_svm_cancer = grid_svm_cancer_class.predict(X2_test)\n",
        "\n",
        "aces_svm_cancer = round(metrics.accuracy_score(Y2_test, y_pred_svm_cancer),4)\n",
        "precision_svm_cancer = round(metrics.precision_score(Y2_test, y_pred_svm_cancer, average='macro'),4)\n",
        "recall_svm_cancer = round(metrics.recall_score(Y2_test, y_pred_svm_cancer, average='macro'),4)\n",
        "f1_svm_cancer = round(metrics.f1_score(Y2_test, y_pred_svm_cancer, average='macro'),4)"
      ],
      "metadata": {
        "id": "CHbQz_5RRwR0"
      },
      "execution_count": null,
      "outputs": []
    },
    {
      "cell_type": "markdown",
      "metadata": {
        "id": "ol1U_T_NvcqV"
      },
      "source": [
        "*   2.2. Apply **GridSearchCV** to **kNN** "
      ]
    },
    {
      "cell_type": "code",
      "execution_count": 23,
      "metadata": {
        "id": "kt71yrAoBwYE"
      },
      "outputs": [],
      "source": [
        "#code\n",
        "grid_params = { 'n_neighbors' : [5,7,9,11,13,15],\n",
        "               'weights' : ['uniform','distance'],\n",
        "               'metric' : ['minkowski','euclidean','manhattan']}"
      ]
    },
    {
      "cell_type": "code",
      "source": [
        "kNN_cancer = KNeighborsClassifier(n_neighbors = 10)\n",
        "\n",
        "grid_kNN_cancer_class = GridSearchCV(   \n",
        "    estimator = kNN_cancer,\n",
        "    param_grid = grid_params,\n",
        "    scoring='accuracy',\n",
        "    n_jobs = 4,\n",
        "    cv =10,\n",
        "    refit =True,\n",
        "    return_train_score=True)\n",
        "\n",
        "grid_kNN_cancer_class.fit(X2_train, Y2_train)\n",
        "\n",
        "y_pred_kNN_cancer = grid_kNN_cancer_class.predict(X2_test)\n",
        "\n",
        "aces_kNN_cancer = round(metrics.accuracy_score(Y2_test, y_pred_kNN_cancer),4)\n",
        "precision_kNN_cancer = round(metrics.precision_score(Y2_test, y_pred_kNN_cancer, average='macro'),4)\n",
        "recall_kNN_cancer = round(metrics.recall_score(Y2_test, y_pred_kNN_cancer, average='macro'),4)\n",
        "f1_kNN_cancer = round(metrics.f1_score(Y2_test, y_pred_kNN_cancer, average='macro'),4)"
      ],
      "metadata": {
        "id": "5LJv_svsSxlc"
      },
      "execution_count": null,
      "outputs": []
    },
    {
      "cell_type": "markdown",
      "metadata": {
        "id": "pPkAvse-BxNa"
      },
      "source": [
        "*   2.3. Apply **GridSearchCV** to **LogisticRegression** "
      ]
    },
    {
      "cell_type": "code",
      "execution_count": null,
      "metadata": {
        "id": "nyYjpHFbB1Ci"
      },
      "outputs": [],
      "source": [
        "#code\n",
        "param_grid_log = {'C': [0.001, 0.01, 0.1, 1, 10, 100, 1000] }"
      ]
    },
    {
      "cell_type": "code",
      "source": [
        "classifier_cancer = LogisticRegression(random_state = 0) \n",
        "\n",
        "grid_cls_cancer_class = GridSearchCV(   \n",
        "    estimator = classifier_cancer,\n",
        "    param_grid = param_grid_log,\n",
        "    scoring='accuracy',\n",
        "    n_jobs = 4,\n",
        "    cv =10,\n",
        "    refit =True,\n",
        "    return_train_score=True)\n",
        "\n",
        "grid_cls_cancer_class.fit(X2_train, Y2_train)\n",
        "\n",
        "y_pred_cls_cancer = grid_cls_cancer_class.predict(X2_test)\n",
        "\n",
        "aces_cls_cancer = round(metrics.accuracy_score(Y2_test, y_pred_cls_cancer),4)\n",
        "precision_cls_cancer = round(metrics.precision_score(Y2_test, y_pred_cls_cancer, average='macro'),4)\n",
        "recall_cls_cancer = round(metrics.recall_score(Y2_test, y_pred_cls_cancer, average='macro'),4)\n",
        "f1_cls_cancer = round(metrics.f1_score(Y2_test, y_pred_cls_cancer, average='macro'),4)"
      ],
      "metadata": {
        "id": "bC9K7fF_TAeV"
      },
      "execution_count": null,
      "outputs": []
    },
    {
      "cell_type": "markdown",
      "metadata": {
        "id": "3NjSLo5jB1xY"
      },
      "source": [
        "*   2.4. Apply **GridSearchCV** to **RandomForest** "
      ]
    },
    {
      "cell_type": "code",
      "execution_count": null,
      "metadata": {
        "id": "nktGtM0PB7XB"
      },
      "outputs": [],
      "source": [
        "#code\n",
        "param_grid_3 = {\n",
        "    'n_estimators': [25, 50, 100, 150],\n",
        "    'max_features': ['sqrt', 'log2', None],\n",
        "    'max_depth': [3, 6, 9],\n",
        "    'max_leaf_nodes': [3, 6, 9],\n",
        "}"
      ]
    },
    {
      "cell_type": "code",
      "source": [
        "rdf_cancer = RandomForestClassifier(n_estimators=100)\n",
        "\n",
        "# Putting the piece\n",
        "grid_rdf_cancer_class = GridSearchCV(   \n",
        "    estimator = rdf_cancer ,\n",
        "    param_grid = param_grid_3 ,\n",
        "    scoring='accuracy',\n",
        "    n_jobs = 4,\n",
        "    cv =10,\n",
        "    refit =True,\n",
        "    return_train_score=True)\n",
        "\n",
        "# Fix the object to our data of knn\n",
        "grid_rdf_cancer_class.fit(X2_train, Y2_train)\n",
        "\n",
        "# Make predictions of rdf\n",
        "y_pred_rdf_cancer = grid_rdf_cancer_class.predict(X2_test)\n",
        "\n",
        "aces_rdf_cancer = round(metrics.accuracy_score(Y2_test, y_pred_rdf_cancer),4)\n",
        "precision_rdf_cancer = round(metrics.precision_score(Y2_test, y_pred_rdf_cancer, average='macro'),4)\n",
        "recall_rdf_cancer = round(metrics.recall_score(Y2_test, y_pred_rdf_cancer, average='macro'),4)\n",
        "f1_rdf_cancer = round(metrics.f1_score(Y2_test, y_pred_rdf_cancer, average='macro'),4)"
      ],
      "metadata": {
        "id": "wSohlpm1TG7k"
      },
      "execution_count": null,
      "outputs": []
    },
    {
      "cell_type": "markdown",
      "metadata": {
        "id": "NZJ3BSHpB9Dx"
      },
      "source": [
        "*   2.5. Compare the best obtained results among classification algorithms (use PrettyTable to dispaly the results) "
      ]
    },
    {
      "cell_type": "code",
      "execution_count": null,
      "metadata": {
        "id": "8LS_IYfNCFEj"
      },
      "outputs": [],
      "source": [
        "#code\n",
        "table_2= PrettyTable([\"\",\"Accuracy\", \"Precision\", \"Recall\", \"F1\"])\n",
        "table_2.add_row([\"Suport Vector Machine \",aces_svm_cancer,precision_svm_cancer,recall_svm_cancer,f1_svm_cancer])\n",
        "table_2.add_row([\"KNN \",aces_kNN_cancer,precision_kNN_cancer,recall_kNN_cancer,f1_kNN_cancer])\n",
        "table_2.add_row([\"Logistic Regression \",aces_cls_cancer,precision_cls_cancer,recall_cls_cancer,f1_cls_cancer])\n",
        "table_2.add_row([\"Random Forest \",aces_rdf_cancer,precision_rdf_cancer,recall_rdf_cancer,f1_rdf_cancer])\n",
        "print(table_2)"
      ]
    },
    {
      "cell_type": "markdown",
      "metadata": {
        "id": "b52OPWPD2afi"
      },
      "source": [
        "#Task 3. \n",
        "The dataset consists of **2000 user-created movie reviews** archived on the IMDb(Internet Movie Database). The reviews are equally partitioned into a positive set and a negative set (1000+1000). Each review consists of a plain text file (.txt) and a class label representing the overall user opinion. \n",
        "The class attribute has only two values: **pos** (positive) or **neg** (negative).\n"
      ]
    },
    {
      "cell_type": "markdown",
      "metadata": {
        "id": "lDcxOQRmDz_h"
      },
      "source": [
        "*   3.1 Importing additional libraries"
      ]
    },
    {
      "cell_type": "code",
      "execution_count": null,
      "metadata": {
        "id": "ZjyW06skDwvL"
      },
      "outputs": [],
      "source": [
        "import nltk, random\n",
        "nltk.download('movie_reviews')#download movie reviews dataset\n",
        "from nltk.corpus import movie_reviews\n",
        "import pandas as pd\n",
        "import matplotlib.pyplot as plt\n",
        "import numpy as np\n",
        "from sklearn.model_selection import cross_val_score\n",
        "from collections import Counter\n",
        "from sklearn.model_selection import train_test_split"
      ]
    },
    {
      "cell_type": "markdown",
      "metadata": {
        "id": "RJpsTIiyv-1h"
      },
      "source": [
        "*   3.2. Movie reviews information"
      ]
    },
    {
      "cell_type": "code",
      "execution_count": null,
      "metadata": {
        "id": "5ZE7A0Au1Pg0"
      },
      "outputs": [],
      "source": [
        "#code\n",
        "print(len(movie_reviews.fileids()))\n",
        "print(movie_reviews.categories())\n",
        "print(movie_reviews.words()[:100])\n",
        "print(movie_reviews.fileids()[:10])"
      ]
    },
    {
      "cell_type": "markdown",
      "metadata": {
        "id": "6pHmMpqMHS23"
      },
      "source": [
        "*   3.3. Create dataset from movie reviews"
      ]
    },
    {
      "cell_type": "code",
      "execution_count": null,
      "metadata": {
        "id": "45aY6woMHSH5"
      },
      "outputs": [],
      "source": [
        "documents = [(list(movie_reviews.words(fileid)), category)\n",
        "             for category in movie_reviews.categories()\n",
        "             for fileid in movie_reviews.fileids(category)]\n",
        "random.seed(123)\n",
        "random.shuffle(documents)"
      ]
    },
    {
      "cell_type": "code",
      "execution_count": null,
      "metadata": {
        "id": "NNke0Da5HqFa"
      },
      "outputs": [],
      "source": [
        "print('Number of Reviews/Documents: {}'.format(len(documents)))\n",
        "print('Corpus Size (words): {}'.format(np.sum([len(d) for (d,l) in documents])))\n",
        "print('Sample Text of Doc 1:')\n",
        "print('-'*30)\n",
        "print(' '.join(documents[0][0][:50])) # first 50 words of the first document"
      ]
    },
    {
      "cell_type": "code",
      "execution_count": null,
      "metadata": {
        "id": "vVFUEhnXHsGd"
      },
      "outputs": [],
      "source": [
        "sentiment_distr = Counter([label for (words, label) in documents])\n",
        "print(sentiment_distr)"
      ]
    },
    {
      "cell_type": "markdown",
      "metadata": {
        "id": "jTXiEbMzHgVC"
      },
      "source": [
        "*   3.4. Train test split"
      ]
    },
    {
      "cell_type": "code",
      "execution_count": null,
      "metadata": {
        "id": "v_-0gZZFHvJN"
      },
      "outputs": [],
      "source": [
        "train, test = train_test_split(documents, test_size = 0.33, random_state=42)"
      ]
    },
    {
      "cell_type": "code",
      "execution_count": null,
      "metadata": {
        "id": "UUGlm5TGHvpV"
      },
      "outputs": [],
      "source": [
        "## Sentiment Distrubtion for Train and Test\n",
        "print(Counter([label for (words, label) in train]))\n",
        "print(Counter([label for (words, label) in test]))"
      ]
    },
    {
      "cell_type": "code",
      "execution_count": null,
      "metadata": {
        "id": "l1ppl_0RHx1P"
      },
      "outputs": [],
      "source": [
        "X_train = [' '.join(words) for (words, label) in train]\n",
        "X_test = [' '.join(words) for (words, label) in test]\n",
        "y_train = [label for (words, label) in train]\n",
        "y_test = [label for (words, label) in test]"
      ]
    },
    {
      "cell_type": "markdown",
      "metadata": {
        "id": "7xUaXrjxH6Ee"
      },
      "source": [
        "*   3.5. Text Vectorization"
      ]
    },
    {
      "cell_type": "code",
      "execution_count": null,
      "metadata": {
        "id": "fzwM0nsIH-8l"
      },
      "outputs": [],
      "source": [
        "from sklearn.feature_extraction.text import CountVectorizer, TfidfVectorizer\n",
        "\n",
        "tfidf_vec = TfidfVectorizer(min_df = 10, token_pattern = r'[a-zA-Z]+')\n",
        "X_train_bow = tfidf_vec.fit_transform(X_train) # fit train\n",
        "X_test_bow = tfidf_vec.transform(X_test) # transform test"
      ]
    },
    {
      "cell_type": "markdown",
      "metadata": {
        "id": "BP1vB3loIF28"
      },
      "source": [
        "*   3.6. Apply **SVM** with **GridSearchCV** "
      ]
    },
    {
      "cell_type": "code",
      "execution_count": null,
      "metadata": {
        "id": "b3FHQqh1Hlrd"
      },
      "outputs": [],
      "source": [
        "#code\n",
        "param_grid_svm = {'C': [0.1, 1, 10, 100, 1000], 'gamma': [1, 0.1, 0.01, 0.001, 0.0001],'kernel': ['rbf','linear']}"
      ]
    },
    {
      "cell_type": "code",
      "source": [
        "clf_movie = svm.SVC(kernel='linear', random_state=0)\n",
        "\n",
        "# Putting the piece\n",
        "grid_svm_movie_class = GridSearchCV(   \n",
        "    estimator = clf_movie,\n",
        "    param_grid = param_grid_svm,\n",
        "    scoring='accuracy',\n",
        "    n_jobs = 4,\n",
        "    cv =10,\n",
        "    refit =True,\n",
        "    return_train_score=True)\n",
        "\n",
        "# Fix the object to our data of svm\n",
        "grid_svm_movie_class.fit(X_train_bow, y_train)\n",
        "\n",
        "# Make predictions of svm\n",
        "y_pred_svm_movie = grid_svm_movie_class.predict(X_test_bow)\n",
        "\n",
        "aces_svm_movie = round(metrics.accuracy_score(y_test, y_pred_svm_movie),4)\n",
        "precision_svm_movie = round(metrics.precision_score(y_test, y_pred_svm_movie, average='macro'),4)\n",
        "recall_svm_movie = round(metrics.recall_score(y_test, y_pred_svm_movie, average='macro'),4)\n",
        "f1_svm_movie = round(metrics.f1_score(y_test, y_pred_svm_movie, average='macro'),4)"
      ],
      "metadata": {
        "id": "1p3McsP0TZF0"
      },
      "execution_count": null,
      "outputs": []
    },
    {
      "cell_type": "markdown",
      "metadata": {
        "id": "N1Fy8jYBIdxi"
      },
      "source": [
        "*   3.7. Apply **RandomForest** with **GridSearchCV** "
      ]
    },
    {
      "cell_type": "code",
      "execution_count": null,
      "metadata": {
        "id": "Fyfw2R-gIhWl"
      },
      "outputs": [],
      "source": [
        "#code\n",
        "param_grid_3 = {\n",
        "    'n_estimators': [25, 50, 100, 150],\n",
        "    'max_features': ['sqrt', 'log2', None],\n",
        "    'max_depth': [3, 6, 9],\n",
        "    'max_leaf_nodes': [3, 6, 9],\n",
        "}"
      ]
    },
    {
      "cell_type": "code",
      "source": [
        "rdf_movie = RandomForestClassifier(n_estimators=100)\n",
        "\n",
        "# Putting the piece\n",
        "grid_rdf_movie_class = GridSearchCV(   \n",
        "    estimator = rdf_movie ,\n",
        "    param_grid = param_grid_3 ,\n",
        "    scoring='accuracy',\n",
        "    n_jobs = 4,\n",
        "    cv =10,\n",
        "    refit =True,\n",
        "    return_train_score=True)\n",
        "\n",
        "# Fix the object to our data of knn\n",
        "grid_rdf_movie_class.fit(X_train_bow, Y_train)\n",
        "\n",
        "# Make predictions of rdf\n",
        "y_pred_rdf_movie = grid_rdf_movie_class.predict(X_test_bow)\n",
        "\n",
        "aces_rdf_movie = round(metrics.accuracy_score(Y_test, y_pred_rdf_movie),4)\n",
        "precision_rdf_movie = round(metrics.precision_score(Y_test, y_pred_rdf_movie, average='macro'),4)\n",
        "recall_rdf_movie = round(metrics.recall_score(Y_test, y_pred_rdf_movie, average='macro'),4)\n",
        "f1_rdf_movie = round(metrics.f1_score(Y_test, y_pred_rdf_movie, average='macro'),4)"
      ],
      "metadata": {
        "id": "aspX8FZgTczR"
      },
      "execution_count": null,
      "outputs": []
    },
    {
      "cell_type": "markdown",
      "metadata": {
        "id": "_btsVKjIIiLT"
      },
      "source": [
        "*   3.8. Apply **kNN** with **GridSearchCV** "
      ]
    },
    {
      "cell_type": "code",
      "execution_count": null,
      "metadata": {
        "id": "IZmFu1ZQImhn"
      },
      "outputs": [],
      "source": [
        "#code\n",
        "grid_params = { 'n_neighbors' : [5,7,9,11,13,15],\n",
        "               'weights' : ['uniform','distance'],\n",
        "               'metric' : ['minkowski','euclidean','manhattan']}"
      ]
    },
    {
      "cell_type": "code",
      "source": [
        "kNN_movie = KNeighborsClassifier(n_neighbors = 10)\n",
        "\n",
        "# Putting the piece\n",
        "grid_kNN_movie_class = GridSearchCV(   \n",
        "    estimator = kNN_movie,\n",
        "    param_grid = grid_params,\n",
        "    scoring='accuracy',\n",
        "    n_jobs = 4,\n",
        "    cv =10,\n",
        "    refit =True,\n",
        "    return_train_score=True)\n",
        "\n",
        "# Fix the object to our data of kNN_movie\n",
        "grid_kNN_movie_class.fit(X_train_bow, y_train)\n",
        "\n",
        "# Make predictions of kNN_movie\n",
        "y_pred_kNN_movie = grid_kNN_movie_class.predict(X_test_bow)\n",
        "\n",
        "aces_kNN_movie = round(metrics.accuracy_score(y_test, y_pred_kNN_movie),4)\n",
        "precision_kNN_movie = round(metrics.precision_score(y_test, y_pred_kNN_movie, average='macro'),4)\n",
        "recall_kNN_movie = round(metrics.recall_score(y_test, y_pred_kNN_movie, average='macro'),4)\n",
        "f1_kNN_movie = round(metrics.f1_score(y_test, y_pred_kNN_movie, average='macro'),4)"
      ],
      "metadata": {
        "id": "htl42-ohTgs5"
      },
      "execution_count": null,
      "outputs": []
    },
    {
      "cell_type": "markdown",
      "metadata": {
        "id": "0Ix_HeVGIvDu"
      },
      "source": [
        "*   3.9. Apply **LogisticRegression** with **GridSearchCV** "
      ]
    },
    {
      "cell_type": "code",
      "execution_count": null,
      "metadata": {
        "id": "sTd3alCMIr-i"
      },
      "outputs": [],
      "source": [
        "#code\n",
        "param_grid_log = {'C': [0.001, 0.01, 0.1, 1, 10, 100, 1000] }"
      ]
    },
    {
      "cell_type": "code",
      "source": [
        "classifier_movie = LogisticRegression(random_state = 0) \n",
        "\n",
        "# Putting the piece\n",
        "grid_cls_movie_class = GridSearchCV(   \n",
        "    estimator = classifier_movie,\n",
        "    param_grid = param_grid_log,\n",
        "    scoring='accuracy',\n",
        "    n_jobs = 4,\n",
        "    cv =10,\n",
        "    refit =True,\n",
        "    return_train_score=True)\n",
        "\n",
        "# Fix the object to our data of knn\n",
        "grid_cls_movie_class.fit(X_train_bow, Y2_train)\n",
        "\n",
        "# Make predictions of cls\n",
        "y_pred_cls_movie = grid_cls_movie_class.predict(X_test_bow)\n",
        "\n",
        "aces_cls_movie = round(metrics.accuracy_score(Y_test, y_pred_cls_movie),4)\n",
        "precision_cls_movie = round(metrics.precision_score(Y_test, y_pred_cls_movie, average='macro'),4)\n",
        "recall_cls_movie = round(metrics.recall_score(Y_test, y_pred_cls_movie, average='macro'),4)\n",
        "f1_cls_movie = round(metrics.f1_score(Yasaa_test, y_pred_cls_movie, average='macro'),4)"
      ],
      "metadata": {
        "id": "uYPtSrlJTkl9"
      },
      "execution_count": null,
      "outputs": []
    },
    {
      "cell_type": "markdown",
      "metadata": {
        "id": "nhYF2y6eI058"
      },
      "source": [
        "*   3.10. Compare the best obtained results among classification algorithms (use PrettyTable to dispaly the results) "
      ]
    },
    {
      "cell_type": "code",
      "source": [
        "table_3= PrettyTable([\"\",\"Accuracy\", \"Precision\", \"Recall\", \"F1\"])\n",
        "table_3.add_row([\"Suport Vector Machine \",aces_svm_movie,precision_svm_movie,recall_svm_movie,f1_svm_movie])\n",
        "table_3.add_row([\"KNN \",aces_kNN_movie,precision_kNN_movie,recall_kNN_movie,f1_kNN_movie])\n",
        "table_3.add_row([\"Logistic Regression \",aces_cls_movie,precision_cls_movie,recall_cls_movie,f1_cls_movie])\n",
        "table_3.add_row([\"Random Forest \",aces_rdf_movie,precision_rdf_movie,recall_rdf_movie,f1_rdf_movie])\n",
        "print(table_3)"
      ],
      "metadata": {
        "id": "JwtTHZE6TuL8"
      },
      "execution_count": null,
      "outputs": []
    },
    {
      "cell_type": "markdown",
      "metadata": {
        "id": "Ok7RGkea_b7n"
      },
      "source": [
        "#Finally,\n",
        "Save a copy in your Github. Remember renaming the notebook."
      ]
    }
  ],
  "metadata": {
    "colab": {
      "provenance": [],
      "include_colab_link": true
    },
    "kernelspec": {
      "display_name": "Python 3",
      "name": "python3"
    },
    "language_info": {
      "name": "python"
    }
  },
  "nbformat": 4,
  "nbformat_minor": 0
}